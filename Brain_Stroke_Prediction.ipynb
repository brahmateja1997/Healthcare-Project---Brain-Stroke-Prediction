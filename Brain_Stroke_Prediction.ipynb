{
  "cells": [
    {
      "cell_type": "markdown",
      "source": [
        "## Healthcare Analytics (304) Project on Brain Stroke Prediction\n",
        "\n",
        "Group-8\n",
        "\n",
        "1. Phanindhra Garlapati - 0789117\n",
        "2. Rajasekhar Gollamudi - 0794183\n",
        "3. Brahma Teja Dasarraju Venkata – 0787625\n",
        "4. Aravind Reddy Nagilla - 0784912"
      ],
      "metadata": {
        "id": "Nhy5ISI9D07i"
      },
      "id": "Nhy5ISI9D07i"
    },
    {
      "cell_type": "markdown",
      "source": [
        "**Importing Necesssary Libraries**"
      ],
      "metadata": {
        "id": "rOKjx96hE8ji"
      },
      "id": "rOKjx96hE8ji"
    },
    {
      "cell_type": "code",
      "execution_count": 1,
      "id": "27f8059e",
      "metadata": {
        "id": "27f8059e"
      },
      "outputs": [],
      "source": [
        "import numpy as np \n",
        "import pandas as pd \n",
        "import seaborn as sns\n",
        "sns.set(style=\"darkgrid\")\n",
        "import matplotlib.pyplot as plt\n",
        "from matplotlib.pyplot import figure\n",
        "from scipy import stats\n",
        "import warnings\n",
        "warnings.filterwarnings('ignore')\n",
        "from sklearn.metrics import classification_report\n",
        "from sklearn.metrics import confusion_matrix\n",
        "from sklearn.preprocessing import OrdinalEncoder\n",
        "from imblearn.over_sampling import SMOTE\n",
        "from sklearn.model_selection import train_test_split\n",
        "from sklearn.tree import DecisionTreeClassifier\n",
        "from sklearn import metrics\n",
        "from sklearn.metrics import f1_score, accuracy_score\n",
        "from sklearn import svm\n",
        "from sklearn.linear_model import LogisticRegression"
      ]
    },
    {
      "cell_type": "markdown",
      "source": [
        "**Loading the Dataset**"
      ],
      "metadata": {
        "id": "qvAXWALaGNz-"
      },
      "id": "qvAXWALaGNz-"
    },
    {
      "cell_type": "code",
      "execution_count": 2,
      "id": "4342a580",
      "metadata": {
        "id": "4342a580"
      },
      "outputs": [],
      "source": [
        "data = pd.read_csv('brain_stroke.csv')"
      ]
    },
    {
      "cell_type": "markdown",
      "source": [
        "**Take a look at first few records of Dataset**"
      ],
      "metadata": {
        "id": "LkE5y9V2Gfns"
      },
      "id": "LkE5y9V2Gfns"
    },
    {
      "cell_type": "code",
      "execution_count": 3,
      "id": "5e59f3ad",
      "metadata": {
        "colab": {
          "base_uri": "https://localhost:8080/",
          "height": 206
        },
        "id": "5e59f3ad",
        "outputId": "ce175809-e7fa-4c8c-98ec-a2e2676f72a0"
      },
      "outputs": [
        {
          "output_type": "execute_result",
          "data": {
            "text/plain": [
              "   gender    age  hypertension  heart_disease ever_married      work_type  \\\n",
              "0    Male   67.0             0              1          Yes        Private   \n",
              "1    Male   80.0             0              1          Yes        Private   \n",
              "2  Female   49.0             0              0          Yes        Private   \n",
              "3  Female  212.0             1              1          Yes        Private   \n",
              "4    Male    NaN             1              0          NaN  Self-employed   \n",
              "\n",
              "  Residence_type  avg_glucose_level   bmi   smoking_status  stroke  \n",
              "0          Urban             228.69  36.6  formerly smoked       1  \n",
              "1          Rural             105.92  32.5     never smoked       1  \n",
              "2          Urban             171.23  34.4           smokes       1  \n",
              "3          Rural             240.30  34.3              NaN       1  \n",
              "4          Urban             412.12  55.2              NaN       1  "
            ],
            "text/html": [
              "\n",
              "  <div id=\"df-8c106661-4422-41fa-8156-b017793a84a9\">\n",
              "    <div class=\"colab-df-container\">\n",
              "      <div>\n",
              "<style scoped>\n",
              "    .dataframe tbody tr th:only-of-type {\n",
              "        vertical-align: middle;\n",
              "    }\n",
              "\n",
              "    .dataframe tbody tr th {\n",
              "        vertical-align: top;\n",
              "    }\n",
              "\n",
              "    .dataframe thead th {\n",
              "        text-align: right;\n",
              "    }\n",
              "</style>\n",
              "<table border=\"1\" class=\"dataframe\">\n",
              "  <thead>\n",
              "    <tr style=\"text-align: right;\">\n",
              "      <th></th>\n",
              "      <th>gender</th>\n",
              "      <th>age</th>\n",
              "      <th>hypertension</th>\n",
              "      <th>heart_disease</th>\n",
              "      <th>ever_married</th>\n",
              "      <th>work_type</th>\n",
              "      <th>Residence_type</th>\n",
              "      <th>avg_glucose_level</th>\n",
              "      <th>bmi</th>\n",
              "      <th>smoking_status</th>\n",
              "      <th>stroke</th>\n",
              "    </tr>\n",
              "  </thead>\n",
              "  <tbody>\n",
              "    <tr>\n",
              "      <th>0</th>\n",
              "      <td>Male</td>\n",
              "      <td>67.0</td>\n",
              "      <td>0</td>\n",
              "      <td>1</td>\n",
              "      <td>Yes</td>\n",
              "      <td>Private</td>\n",
              "      <td>Urban</td>\n",
              "      <td>228.69</td>\n",
              "      <td>36.6</td>\n",
              "      <td>formerly smoked</td>\n",
              "      <td>1</td>\n",
              "    </tr>\n",
              "    <tr>\n",
              "      <th>1</th>\n",
              "      <td>Male</td>\n",
              "      <td>80.0</td>\n",
              "      <td>0</td>\n",
              "      <td>1</td>\n",
              "      <td>Yes</td>\n",
              "      <td>Private</td>\n",
              "      <td>Rural</td>\n",
              "      <td>105.92</td>\n",
              "      <td>32.5</td>\n",
              "      <td>never smoked</td>\n",
              "      <td>1</td>\n",
              "    </tr>\n",
              "    <tr>\n",
              "      <th>2</th>\n",
              "      <td>Female</td>\n",
              "      <td>49.0</td>\n",
              "      <td>0</td>\n",
              "      <td>0</td>\n",
              "      <td>Yes</td>\n",
              "      <td>Private</td>\n",
              "      <td>Urban</td>\n",
              "      <td>171.23</td>\n",
              "      <td>34.4</td>\n",
              "      <td>smokes</td>\n",
              "      <td>1</td>\n",
              "    </tr>\n",
              "    <tr>\n",
              "      <th>3</th>\n",
              "      <td>Female</td>\n",
              "      <td>212.0</td>\n",
              "      <td>1</td>\n",
              "      <td>1</td>\n",
              "      <td>Yes</td>\n",
              "      <td>Private</td>\n",
              "      <td>Rural</td>\n",
              "      <td>240.30</td>\n",
              "      <td>34.3</td>\n",
              "      <td>NaN</td>\n",
              "      <td>1</td>\n",
              "    </tr>\n",
              "    <tr>\n",
              "      <th>4</th>\n",
              "      <td>Male</td>\n",
              "      <td>NaN</td>\n",
              "      <td>1</td>\n",
              "      <td>0</td>\n",
              "      <td>NaN</td>\n",
              "      <td>Self-employed</td>\n",
              "      <td>Urban</td>\n",
              "      <td>412.12</td>\n",
              "      <td>55.2</td>\n",
              "      <td>NaN</td>\n",
              "      <td>1</td>\n",
              "    </tr>\n",
              "  </tbody>\n",
              "</table>\n",
              "</div>\n",
              "      <button class=\"colab-df-convert\" onclick=\"convertToInteractive('df-8c106661-4422-41fa-8156-b017793a84a9')\"\n",
              "              title=\"Convert this dataframe to an interactive table.\"\n",
              "              style=\"display:none;\">\n",
              "        \n",
              "  <svg xmlns=\"http://www.w3.org/2000/svg\" height=\"24px\"viewBox=\"0 0 24 24\"\n",
              "       width=\"24px\">\n",
              "    <path d=\"M0 0h24v24H0V0z\" fill=\"none\"/>\n",
              "    <path d=\"M18.56 5.44l.94 2.06.94-2.06 2.06-.94-2.06-.94-.94-2.06-.94 2.06-2.06.94zm-11 1L8.5 8.5l.94-2.06 2.06-.94-2.06-.94L8.5 2.5l-.94 2.06-2.06.94zm10 10l.94 2.06.94-2.06 2.06-.94-2.06-.94-.94-2.06-.94 2.06-2.06.94z\"/><path d=\"M17.41 7.96l-1.37-1.37c-.4-.4-.92-.59-1.43-.59-.52 0-1.04.2-1.43.59L10.3 9.45l-7.72 7.72c-.78.78-.78 2.05 0 2.83L4 21.41c.39.39.9.59 1.41.59.51 0 1.02-.2 1.41-.59l7.78-7.78 2.81-2.81c.8-.78.8-2.07 0-2.86zM5.41 20L4 18.59l7.72-7.72 1.47 1.35L5.41 20z\"/>\n",
              "  </svg>\n",
              "      </button>\n",
              "      \n",
              "  <style>\n",
              "    .colab-df-container {\n",
              "      display:flex;\n",
              "      flex-wrap:wrap;\n",
              "      gap: 12px;\n",
              "    }\n",
              "\n",
              "    .colab-df-convert {\n",
              "      background-color: #E8F0FE;\n",
              "      border: none;\n",
              "      border-radius: 50%;\n",
              "      cursor: pointer;\n",
              "      display: none;\n",
              "      fill: #1967D2;\n",
              "      height: 32px;\n",
              "      padding: 0 0 0 0;\n",
              "      width: 32px;\n",
              "    }\n",
              "\n",
              "    .colab-df-convert:hover {\n",
              "      background-color: #E2EBFA;\n",
              "      box-shadow: 0px 1px 2px rgba(60, 64, 67, 0.3), 0px 1px 3px 1px rgba(60, 64, 67, 0.15);\n",
              "      fill: #174EA6;\n",
              "    }\n",
              "\n",
              "    [theme=dark] .colab-df-convert {\n",
              "      background-color: #3B4455;\n",
              "      fill: #D2E3FC;\n",
              "    }\n",
              "\n",
              "    [theme=dark] .colab-df-convert:hover {\n",
              "      background-color: #434B5C;\n",
              "      box-shadow: 0px 1px 3px 1px rgba(0, 0, 0, 0.15);\n",
              "      filter: drop-shadow(0px 1px 2px rgba(0, 0, 0, 0.3));\n",
              "      fill: #FFFFFF;\n",
              "    }\n",
              "  </style>\n",
              "\n",
              "      <script>\n",
              "        const buttonEl =\n",
              "          document.querySelector('#df-8c106661-4422-41fa-8156-b017793a84a9 button.colab-df-convert');\n",
              "        buttonEl.style.display =\n",
              "          google.colab.kernel.accessAllowed ? 'block' : 'none';\n",
              "\n",
              "        async function convertToInteractive(key) {\n",
              "          const element = document.querySelector('#df-8c106661-4422-41fa-8156-b017793a84a9');\n",
              "          const dataTable =\n",
              "            await google.colab.kernel.invokeFunction('convertToInteractive',\n",
              "                                                     [key], {});\n",
              "          if (!dataTable) return;\n",
              "\n",
              "          const docLinkHtml = 'Like what you see? Visit the ' +\n",
              "            '<a target=\"_blank\" href=https://colab.research.google.com/notebooks/data_table.ipynb>data table notebook</a>'\n",
              "            + ' to learn more about interactive tables.';\n",
              "          element.innerHTML = '';\n",
              "          dataTable['output_type'] = 'display_data';\n",
              "          await google.colab.output.renderOutput(dataTable, element);\n",
              "          const docLink = document.createElement('div');\n",
              "          docLink.innerHTML = docLinkHtml;\n",
              "          element.appendChild(docLink);\n",
              "        }\n",
              "      </script>\n",
              "    </div>\n",
              "  </div>\n",
              "  "
            ]
          },
          "metadata": {},
          "execution_count": 3
        }
      ],
      "source": [
        "data.head()"
      ]
    },
    {
      "cell_type": "markdown",
      "source": [
        "## Attribute Information"
      ],
      "metadata": {
        "id": "mslrL8r5JhtY"
      },
      "id": "mslrL8r5JhtY"
    },
    {
      "cell_type": "markdown",
      "source": [
        "From the above dataset columns are as below:\n",
        "\n",
        "Gender - Gender of the person\n",
        "\n",
        "Age - Age of the person\n",
        "\n",
        "Hypertension - Whether the person is having hypertension or not ( 1 - Yes , 0 - No)\n",
        "\n",
        "Ever_married - Whether the person is married or not (Yes or No)\n",
        "\n",
        "Work_Type - In which work type the person is working.\n",
        "\n",
        "Residence_type - In which residense type the person is living.\n",
        "\n",
        "Avg_glucose_level - What is the average glucose level of the person.\n",
        "\n",
        "BMI - What is the body mass index of the person.\n",
        "\n",
        "Smoking_status - What is the smoking status of the person.\n",
        "\n",
        "Stroke - Whether the person gets stroke or not. ( 1 - Yes, 0 - No)"
      ],
      "metadata": {
        "id": "cQwxwAMoILma"
      },
      "id": "cQwxwAMoILma"
    },
    {
      "cell_type": "markdown",
      "source": [
        "**Knowing the data**"
      ],
      "metadata": {
        "id": "ywK15aZnHnBi"
      },
      "id": "ywK15aZnHnBi"
    },
    {
      "cell_type": "code",
      "source": [
        "data.info()"
      ],
      "metadata": {
        "colab": {
          "base_uri": "https://localhost:8080/"
        },
        "id": "mGsRdYqQHq7H",
        "outputId": "ac753ee0-50f7-4c17-8bd1-ef03eb5b8538"
      },
      "id": "mGsRdYqQHq7H",
      "execution_count": 4,
      "outputs": [
        {
          "output_type": "stream",
          "name": "stdout",
          "text": [
            "<class 'pandas.core.frame.DataFrame'>\n",
            "RangeIndex: 4983 entries, 0 to 4982\n",
            "Data columns (total 11 columns):\n",
            " #   Column             Non-Null Count  Dtype  \n",
            "---  ------             --------------  -----  \n",
            " 0   gender             4983 non-null   object \n",
            " 1   age                4982 non-null   float64\n",
            " 2   hypertension       4983 non-null   int64  \n",
            " 3   heart_disease      4983 non-null   int64  \n",
            " 4   ever_married       4982 non-null   object \n",
            " 5   work_type          4983 non-null   object \n",
            " 6   Residence_type     4983 non-null   object \n",
            " 7   avg_glucose_level  4983 non-null   float64\n",
            " 8   bmi                4983 non-null   float64\n",
            " 9   smoking_status     4981 non-null   object \n",
            " 10  stroke             4983 non-null   int64  \n",
            "dtypes: float64(3), int64(3), object(5)\n",
            "memory usage: 428.4+ KB\n"
          ]
        }
      ]
    },
    {
      "cell_type": "markdown",
      "source": [
        "**From the above dataset info, we could observe that dataset is having 11 Columns and 4983 Rows in the dataset and with the evident difference in the row size there might be null values in the data set. In the next step we have to find the columns which are having null values and drop those rows.**"
      ],
      "metadata": {
        "id": "ev2crwV2H3SJ"
      },
      "id": "ev2crwV2H3SJ"
    },
    {
      "cell_type": "code",
      "source": [
        "data.nunique()"
      ],
      "metadata": {
        "colab": {
          "base_uri": "https://localhost:8080/"
        },
        "id": "OilM1MitJpnb",
        "outputId": "83f9bdd4-adfd-4c43-a9e9-72b8df13b5d9"
      },
      "id": "OilM1MitJpnb",
      "execution_count": 5,
      "outputs": [
        {
          "output_type": "execute_result",
          "data": {
            "text/plain": [
              "gender                  2\n",
              "age                   106\n",
              "hypertension            2\n",
              "heart_disease           2\n",
              "ever_married            2\n",
              "work_type               4\n",
              "Residence_type          2\n",
              "avg_glucose_level    3897\n",
              "bmi                   343\n",
              "smoking_status          4\n",
              "stroke                  2\n",
              "dtype: int64"
            ]
          },
          "metadata": {},
          "execution_count": 5
        }
      ]
    },
    {
      "cell_type": "markdown",
      "source": [
        "From the above we could see number of unique values in each column of the dataset\n",
        "\n",
        "Gender is having only 2 categories which are Male and Female.\n",
        "\n",
        "In age column we are having 106 different values.\n",
        "\n",
        "We are having only 2 categories for the columns Hypertension, Ever married, Heart disease , Stroke which are Yes and No or 1 and 0.\n",
        "\n",
        "For Work _Type and Smoking_status we are having 4 different categories.\n",
        "\n",
        "For BMI we are having 343 different values.\n",
        "\n",
        "For avg_glucose_level we are having 3897 different values."
      ],
      "metadata": {
        "id": "nSfpnDcMJ1GJ"
      },
      "id": "nSfpnDcMJ1GJ"
    },
    {
      "cell_type": "markdown",
      "source": [
        "## DATA CLEANING"
      ],
      "metadata": {
        "id": "KrlrXEilLTmk"
      },
      "id": "KrlrXEilLTmk"
    },
    {
      "cell_type": "markdown",
      "source": [
        "**Checking for Null values**"
      ],
      "metadata": {
        "id": "rSqR3L7AL6yn"
      },
      "id": "rSqR3L7AL6yn"
    },
    {
      "cell_type": "code",
      "source": [
        "data.isna().sum()"
      ],
      "metadata": {
        "colab": {
          "base_uri": "https://localhost:8080/"
        },
        "id": "oBK8zJ8DL9yA",
        "outputId": "50ff6f0e-e0c9-4054-f5a6-2fd1a04452bf"
      },
      "id": "oBK8zJ8DL9yA",
      "execution_count": 6,
      "outputs": [
        {
          "output_type": "execute_result",
          "data": {
            "text/plain": [
              "gender               0\n",
              "age                  1\n",
              "hypertension         0\n",
              "heart_disease        0\n",
              "ever_married         1\n",
              "work_type            0\n",
              "Residence_type       0\n",
              "avg_glucose_level    0\n",
              "bmi                  0\n",
              "smoking_status       2\n",
              "stroke               0\n",
              "dtype: int64"
            ]
          },
          "metadata": {},
          "execution_count": 6
        }
      ]
    },
    {
      "cell_type": "markdown",
      "source": [
        "From the above result it is evident that dataset is having null values in the columns:\n",
        "\n",
        "age - 1\n",
        "\n",
        "ever_married  - 1\n",
        "\n",
        "smoking_status - 2\n",
        "\n",
        "We will remove the rows with null values"
      ],
      "metadata": {
        "id": "PgjyjlToMHr6"
      },
      "id": "PgjyjlToMHr6"
    },
    {
      "cell_type": "markdown",
      "source": [
        "**Dropping all the null values from the data**"
      ],
      "metadata": {
        "id": "lgPuJ2rSMfJm"
      },
      "id": "lgPuJ2rSMfJm"
    },
    {
      "cell_type": "code",
      "source": [
        "data = data.dropna()"
      ],
      "metadata": {
        "id": "4jRYNILiMif5"
      },
      "id": "4jRYNILiMif5",
      "execution_count": 7,
      "outputs": []
    },
    {
      "cell_type": "markdown",
      "source": [
        "**Again rechecking for null values in the data**"
      ],
      "metadata": {
        "id": "xks7TVACMqiU"
      },
      "id": "xks7TVACMqiU"
    },
    {
      "cell_type": "code",
      "source": [
        "data.isna().sum()"
      ],
      "metadata": {
        "colab": {
          "base_uri": "https://localhost:8080/"
        },
        "id": "gcVeoREbMsgJ",
        "outputId": "77c75456-cb74-43da-fa75-48052673a7a4"
      },
      "id": "gcVeoREbMsgJ",
      "execution_count": 8,
      "outputs": [
        {
          "output_type": "execute_result",
          "data": {
            "text/plain": [
              "gender               0\n",
              "age                  0\n",
              "hypertension         0\n",
              "heart_disease        0\n",
              "ever_married         0\n",
              "work_type            0\n",
              "Residence_type       0\n",
              "avg_glucose_level    0\n",
              "bmi                  0\n",
              "smoking_status       0\n",
              "stroke               0\n",
              "dtype: int64"
            ]
          },
          "metadata": {},
          "execution_count": 8
        }
      ]
    },
    {
      "cell_type": "markdown",
      "source": [
        "**Now the dataset is free from null values**"
      ],
      "metadata": {
        "id": "McrOEsF8OIOX"
      },
      "id": "McrOEsF8OIOX"
    },
    {
      "cell_type": "markdown",
      "source": [
        "**Checking for the any outliers in the dataset for the columns age, bmi and avg_glucose_level**"
      ],
      "metadata": {
        "id": "EEb1PbveObxt"
      },
      "id": "EEb1PbveObxt"
    },
    {
      "cell_type": "markdown",
      "source": [
        "**Boxplot for Age Column**"
      ],
      "metadata": {
        "id": "HqT6xnaHA4H-"
      },
      "id": "HqT6xnaHA4H-"
    },
    {
      "cell_type": "code",
      "source": [
        "plt.boxplot(data[\"age\"])"
      ],
      "metadata": {
        "colab": {
          "base_uri": "https://localhost:8080/",
          "height": 407
        },
        "id": "qTyNnd48c7CV",
        "outputId": "81826bc3-784b-4f25-8520-c52ddf808c23"
      },
      "id": "qTyNnd48c7CV",
      "execution_count": 9,
      "outputs": [
        {
          "output_type": "execute_result",
          "data": {
            "text/plain": [
              "{'whiskers': [<matplotlib.lines.Line2D at 0x7f2cd56ba940>,\n",
              "  <matplotlib.lines.Line2D at 0x7f2cd56baca0>],\n",
              " 'caps': [<matplotlib.lines.Line2D at 0x7f2cd56d2040>,\n",
              "  <matplotlib.lines.Line2D at 0x7f2cd56d23a0>],\n",
              " 'boxes': [<matplotlib.lines.Line2D at 0x7f2cd56ba5e0>],\n",
              " 'medians': [<matplotlib.lines.Line2D at 0x7f2cd56d2700>],\n",
              " 'fliers': [<matplotlib.lines.Line2D at 0x7f2cd56d2a00>],\n",
              " 'means': []}"
            ]
          },
          "metadata": {},
          "execution_count": 9
        },
        {
          "output_type": "display_data",
          "data": {
            "text/plain": [
              "<Figure size 432x288 with 1 Axes>"
            ],
            "image/png": "[encoded data removed]"
          },
          "metadata": {}
        }
      ]
    },
    {
      "cell_type": "markdown",
      "source": [
        "**Here we can observe that one value is completely out of Interquartile Range so we need to remove that from the dataset**"
      ],
      "metadata": {
        "id": "GFz6TH8aBEnR"
      },
      "id": "GFz6TH8aBEnR"
    },
    {
      "cell_type": "markdown",
      "source": [
        "**Checking Minimun and Maximum Values for Age Column**"
      ],
      "metadata": {
        "id": "IEs5kVWqAqDn"
      },
      "id": "IEs5kVWqAqDn"
    },
    {
      "cell_type": "code",
      "source": [
        "print(min(data['age']))\n",
        "print(max(data['age']))"
      ],
      "metadata": {
        "colab": {
          "base_uri": "https://localhost:8080/"
        },
        "id": "Y4fAYdc5ddR_",
        "outputId": "f86f4a5f-8e84-405f-e4ea-342572229308"
      },
      "id": "Y4fAYdc5ddR_",
      "execution_count": 10,
      "outputs": [
        {
          "output_type": "stream",
          "name": "stdout",
          "text": [
            "0.08\n",
            "181.0\n"
          ]
        }
      ]
    },
    {
      "cell_type": "markdown",
      "source": [
        "**Checking the Index of the maximum value of Age which is 181.0**\n",
        "\n",
        "---\n",
        "\n"
      ],
      "metadata": {
        "id": "SrFlm5WpB4Xj"
      },
      "id": "SrFlm5WpB4Xj"
    },
    {
      "cell_type": "code",
      "source": [
        "i = data.index\n",
        "index = data['age'] == 181.0\n",
        "result = i[index]\n",
        "result.tolist()"
      ],
      "metadata": {
        "colab": {
          "base_uri": "https://localhost:8080/"
        },
        "id": "v3Rc3DcPLHCA",
        "outputId": "bab71b38-ddc1-407d-e12c-b9d1d70eb1bd"
      },
      "id": "v3Rc3DcPLHCA",
      "execution_count": 11,
      "outputs": [
        {
          "output_type": "execute_result",
          "data": {
            "text/plain": [
              "[6]"
            ]
          },
          "metadata": {},
          "execution_count": 11
        }
      ]
    },
    {
      "cell_type": "markdown",
      "source": [
        "**Index of maximum value of Age is 6**"
      ],
      "metadata": {
        "id": "pbdGYzBMCEW0"
      },
      "id": "pbdGYzBMCEW0"
    },
    {
      "cell_type": "markdown",
      "source": [
        "**Dropping the row with the index 6**"
      ],
      "metadata": {
        "id": "-uEXJM_QE0BV"
      },
      "id": "-uEXJM_QE0BV"
    },
    {
      "cell_type": "code",
      "source": [
        "data = data.drop(result.tolist())\n",
        "data"
      ],
      "metadata": {
        "colab": {
          "base_uri": "https://localhost:8080/",
          "height": 424
        },
        "id": "axfii0Azj9zr",
        "outputId": "5430141d-1945-4ff2-fc7e-bdc6d1dbbcf6"
      },
      "id": "axfii0Azj9zr",
      "execution_count": 12,
      "outputs": [
        {
          "output_type": "execute_result",
          "data": {
            "text/plain": [
              "      gender   age  hypertension  heart_disease ever_married      work_type  \\\n",
              "0       Male  67.0             0              1          Yes        Private   \n",
              "1       Male  80.0             0              1          Yes        Private   \n",
              "2     Female  49.0             0              0          Yes        Private   \n",
              "5     Female  79.0             1              0          Yes  Self-employed   \n",
              "7       Male  74.0             1              1          Yes        Private   \n",
              "...      ...   ...           ...            ...          ...            ...   \n",
              "4978    Male  41.0             0              0           No        Private   \n",
              "4979    Male  40.0             0              0          Yes        Private   \n",
              "4980  Female  45.0             1              0          Yes       Govt_job   \n",
              "4981    Male  40.0             0              0          Yes        Private   \n",
              "4982  Female  80.0             1              0          Yes        Private   \n",
              "\n",
              "     Residence_type  avg_glucose_level   bmi   smoking_status  stroke  \n",
              "0             Urban             228.69  36.6  formerly smoked       1  \n",
              "1             Rural             105.92  32.5     never smoked       1  \n",
              "2             Urban             171.23  34.4           smokes       1  \n",
              "5             Rural             174.12  24.0     never smoked       1  \n",
              "7             Rural              70.09  27.4     never smoked       1  \n",
              "...             ...                ...   ...              ...     ...  \n",
              "4978          Rural              70.15  29.8  formerly smoked       0  \n",
              "4979          Urban             191.15  31.1           smokes       0  \n",
              "4980          Rural              95.02  31.8           smokes       0  \n",
              "4981          Rural              83.94  30.0           smokes       0  \n",
              "4982          Urban              83.75  29.1     never smoked       0  \n",
              "\n",
              "[4980 rows x 11 columns]"
            ],
            "text/html": [
              "\n",
              "  <div id=\"df-31c5ceaf-3e85-489f-a238-eacbc4b696e7\">\n",
              "    <div class=\"colab-df-container\">\n",
              "      <div>\n",
              "<style scoped>\n",
              "    .dataframe tbody tr th:only-of-type {\n",
              "        vertical-align: middle;\n",
              "    }\n",
              "\n",
              "    .dataframe tbody tr th {\n",
              "        vertical-align: top;\n",
              "    }\n",
              "\n",
              "    .dataframe thead th {\n",
              "        text-align: right;\n",
              "    }\n",
              "</style>\n",
              "<table border=\"1\" class=\"dataframe\">\n",
              "  <thead>\n",
              "    <tr style=\"text-align: right;\">\n",
              "      <th></th>\n",
              "      <th>gender</th>\n",
              "      <th>age</th>\n",
              "      <th>hypertension</th>\n",
              "      <th>heart_disease</th>\n",
              "      <th>ever_married</th>\n",
              "      <th>work_type</th>\n",
              "      <th>Residence_type</th>\n",
              "      <th>avg_glucose_level</th>\n",
              "      <th>bmi</th>\n",
              "      <th>smoking_status</th>\n",
              "      <th>stroke</th>\n",
              "    </tr>\n",
              "  </thead>\n",
              "  <tbody>\n",
              "    <tr>\n",
              "      <th>0</th>\n",
              "      <td>Male</td>\n",
              "      <td>67.0</td>\n",
              "      <td>0</td>\n",
              "      <td>1</td>\n",
              "      <td>Yes</td>\n",
              "      <td>Private</td>\n",
              "      <td>Urban</td>\n",
              "      <td>228.69</td>\n",
              "      <td>36.6</td>\n",
              "      <td>formerly smoked</td>\n",
              "      <td>1</td>\n",
              "    </tr>\n",
              "    <tr>\n",
              "      <th>1</th>\n",
              "      <td>Male</td>\n",
              "      <td>80.0</td>\n",
              "      <td>0</td>\n",
              "      <td>1</td>\n",
              "      <td>Yes</td>\n",
              "      <td>Private</td>\n",
              "      <td>Rural</td>\n",
              "      <td>105.92</td>\n",
              "      <td>32.5</td>\n",
              "      <td>never smoked</td>\n",
              "      <td>1</td>\n",
              "    </tr>\n",
              "    <tr>\n",
              "      <th>2</th>\n",
              "      <td>Female</td>\n",
              "      <td>49.0</td>\n",
              "      <td>0</td>\n",
              "      <td>0</td>\n",
              "      <td>Yes</td>\n",
              "      <td>Private</td>\n",
              "      <td>Urban</td>\n",
              "      <td>171.23</td>\n",
              "      <td>34.4</td>\n",
              "      <td>smokes</td>\n",
              "      <td>1</td>\n",
              "    </tr>\n",
              "    <tr>\n",
              "      <th>5</th>\n",
              "      <td>Female</td>\n",
              "      <td>79.0</td>\n",
              "      <td>1</td>\n",
              "      <td>0</td>\n",
              "      <td>Yes</td>\n",
              "      <td>Self-employed</td>\n",
              "      <td>Rural</td>\n",
              "      <td>174.12</td>\n",
              "      <td>24.0</td>\n",
              "      <td>never smoked</td>\n",
              "      <td>1</td>\n",
              "    </tr>\n",
              "    <tr>\n",
              "      <th>7</th>\n",
              "      <td>Male</td>\n",
              "      <td>74.0</td>\n",
              "      <td>1</td>\n",
              "      <td>1</td>\n",
              "      <td>Yes</td>\n",
              "      <td>Private</td>\n",
              "      <td>Rural</td>\n",
              "      <td>70.09</td>\n",
              "      <td>27.4</td>\n",
              "      <td>never smoked</td>\n",
              "      <td>1</td>\n",
              "    </tr>\n",
              "    <tr>\n",
              "      <th>...</th>\n",
              "      <td>...</td>\n",
              "      <td>...</td>\n",
              "      <td>...</td>\n",
              "      <td>...</td>\n",
              "      <td>...</td>\n",
              "      <td>...</td>\n",
              "      <td>...</td>\n",
              "      <td>...</td>\n",
              "      <td>...</td>\n",
              "      <td>...</td>\n",
              "      <td>...</td>\n",
              "    </tr>\n",
              "    <tr>\n",
              "      <th>4978</th>\n",
              "      <td>Male</td>\n",
              "      <td>41.0</td>\n",
              "      <td>0</td>\n",
              "      <td>0</td>\n",
              "      <td>No</td>\n",
              "      <td>Private</td>\n",
              "      <td>Rural</td>\n",
              "      <td>70.15</td>\n",
              "      <td>29.8</td>\n",
              "      <td>formerly smoked</td>\n",
              "      <td>0</td>\n",
              "    </tr>\n",
              "    <tr>\n",
              "      <th>4979</th>\n",
              "      <td>Male</td>\n",
              "      <td>40.0</td>\n",
              "      <td>0</td>\n",
              "      <td>0</td>\n",
              "      <td>Yes</td>\n",
              "      <td>Private</td>\n",
              "      <td>Urban</td>\n",
              "      <td>191.15</td>\n",
              "      <td>31.1</td>\n",
              "      <td>smokes</td>\n",
              "      <td>0</td>\n",
              "    </tr>\n",
              "    <tr>\n",
              "      <th>4980</th>\n",
              "      <td>Female</td>\n",
              "      <td>45.0</td>\n",
              "      <td>1</td>\n",
              "      <td>0</td>\n",
              "      <td>Yes</td>\n",
              "      <td>Govt_job</td>\n",
              "      <td>Rural</td>\n",
              "      <td>95.02</td>\n",
              "      <td>31.8</td>\n",
              "      <td>smokes</td>\n",
              "      <td>0</td>\n",
              "    </tr>\n",
              "    <tr>\n",
              "      <th>4981</th>\n",
              "      <td>Male</td>\n",
              "      <td>40.0</td>\n",
              "      <td>0</td>\n",
              "      <td>0</td>\n",
              "      <td>Yes</td>\n",
              "      <td>Private</td>\n",
              "      <td>Rural</td>\n",
              "      <td>83.94</td>\n",
              "      <td>30.0</td>\n",
              "      <td>smokes</td>\n",
              "      <td>0</td>\n",
              "    </tr>\n",
              "    <tr>\n",
              "      <th>4982</th>\n",
              "      <td>Female</td>\n",
              "      <td>80.0</td>\n",
              "      <td>1</td>\n",
              "      <td>0</td>\n",
              "      <td>Yes</td>\n",
              "      <td>Private</td>\n",
              "      <td>Urban</td>\n",
              "      <td>83.75</td>\n",
              "      <td>29.1</td>\n",
              "      <td>never smoked</td>\n",
              "      <td>0</td>\n",
              "    </tr>\n",
              "  </tbody>\n",
              "</table>\n",
              "<p>4980 rows × 11 columns</p>\n",
              "</div>\n",
              "      <button class=\"colab-df-convert\" onclick=\"convertToInteractive('df-31c5ceaf-3e85-489f-a238-eacbc4b696e7')\"\n",
              "              title=\"Convert this dataframe to an interactive table.\"\n",
              "              style=\"display:none;\">\n",
              "        \n",
              "  <svg xmlns=\"http://www.w3.org/2000/svg\" height=\"24px\"viewBox=\"0 0 24 24\"\n",
              "       width=\"24px\">\n",
              "    <path d=\"M0 0h24v24H0V0z\" fill=\"none\"/>\n",
              "    <path d=\"M18.56 5.44l.94 2.06.94-2.06 2.06-.94-2.06-.94-.94-2.06-.94 2.06-2.06.94zm-11 1L8.5 8.5l.94-2.06 2.06-.94-2.06-.94L8.5 2.5l-.94 2.06-2.06.94zm10 10l.94 2.06.94-2.06 2.06-.94-2.06-.94-.94-2.06-.94 2.06-2.06.94z\"/><path d=\"M17.41 7.96l-1.37-1.37c-.4-.4-.92-.59-1.43-.59-.52 0-1.04.2-1.43.59L10.3 9.45l-7.72 7.72c-.78.78-.78 2.05 0 2.83L4 21.41c.39.39.9.59 1.41.59.51 0 1.02-.2 1.41-.59l7.78-7.78 2.81-2.81c.8-.78.8-2.07 0-2.86zM5.41 20L4 18.59l7.72-7.72 1.47 1.35L5.41 20z\"/>\n",
              "  </svg>\n",
              "      </button>\n",
              "      \n",
              "  <style>\n",
              "    .colab-df-container {\n",
              "      display:flex;\n",
              "      flex-wrap:wrap;\n",
              "      gap: 12px;\n",
              "    }\n",
              "\n",
              "    .colab-df-convert {\n",
              "      background-color: #E8F0FE;\n",
              "      border: none;\n",
              "      border-radius: 50%;\n",
              "      cursor: pointer;\n",
              "      display: none;\n",
              "      fill: #1967D2;\n",
              "      height: 32px;\n",
              "      padding: 0 0 0 0;\n",
              "      width: 32px;\n",
              "    }\n",
              "\n",
              "    .colab-df-convert:hover {\n",
              "      background-color: #E2EBFA;\n",
              "      box-shadow: 0px 1px 2px rgba(60, 64, 67, 0.3), 0px 1px 3px 1px rgba(60, 64, 67, 0.15);\n",
              "      fill: #174EA6;\n",
              "    }\n",
              "\n",
              "    [theme=dark] .colab-df-convert {\n",
              "      background-color: #3B4455;\n",
              "      fill: #D2E3FC;\n",
              "    }\n",
              "\n",
              "    [theme=dark] .colab-df-convert:hover {\n",
              "      background-color: #434B5C;\n",
              "      box-shadow: 0px 1px 3px 1px rgba(0, 0, 0, 0.15);\n",
              "      filter: drop-shadow(0px 1px 2px rgba(0, 0, 0, 0.3));\n",
              "      fill: #FFFFFF;\n",
              "    }\n",
              "  </style>\n",
              "\n",
              "      <script>\n",
              "        const buttonEl =\n",
              "          document.querySelector('#df-31c5ceaf-3e85-489f-a238-eacbc4b696e7 button.colab-df-convert');\n",
              "        buttonEl.style.display =\n",
              "          google.colab.kernel.accessAllowed ? 'block' : 'none';\n",
              "\n",
              "        async function convertToInteractive(key) {\n",
              "          const element = document.querySelector('#df-31c5ceaf-3e85-489f-a238-eacbc4b696e7');\n",
              "          const dataTable =\n",
              "            await google.colab.kernel.invokeFunction('convertToInteractive',\n",
              "                                                     [key], {});\n",
              "          if (!dataTable) return;\n",
              "\n",
              "          const docLinkHtml = 'Like what you see? Visit the ' +\n",
              "            '<a target=\"_blank\" href=https://colab.research.google.com/notebooks/data_table.ipynb>data table notebook</a>'\n",
              "            + ' to learn more about interactive tables.';\n",
              "          element.innerHTML = '';\n",
              "          dataTable['output_type'] = 'display_data';\n",
              "          await google.colab.output.renderOutput(dataTable, element);\n",
              "          const docLink = document.createElement('div');\n",
              "          docLink.innerHTML = docLinkHtml;\n",
              "          element.appendChild(docLink);\n",
              "        }\n",
              "      </script>\n",
              "    </div>\n",
              "  </div>\n",
              "  "
            ]
          },
          "metadata": {},
          "execution_count": 12
        }
      ]
    },
    {
      "cell_type": "markdown",
      "source": [
        "**Calculating Z Score for bmi and avg_glucose_level columns**"
      ],
      "metadata": {
        "id": "QJuJuyPqEEun"
      },
      "id": "QJuJuyPqEEun"
    },
    {
      "cell_type": "code",
      "source": [
        "# Z score\n",
        "\n",
        "from scipy import stats\n",
        "\n",
        "bmi_out = np.abs(stats.zscore(data['bmi']))\n",
        "glucose_out =  np.abs(stats.zscore(data['avg_glucose_level']))\n"
      ],
      "metadata": {
        "id": "BY39kaV-OjV1"
      },
      "id": "BY39kaV-OjV1",
      "execution_count": 13,
      "outputs": []
    },
    {
      "cell_type": "code",
      "source": [
        "threshold = 3\n",
        " \n",
        "# Position of the outlier\n",
        "\n",
        "bmi_o = np.where(bmi_out > 3)\n",
        "glucose_o = np.where(glucose_out > 3)\n",
        "\n",
        "print(bmi_o)\n",
        "print(glucose_o)"
      ],
      "metadata": {
        "colab": {
          "base_uri": "https://localhost:8080/"
        },
        "id": "UA-tSWVmOpjp",
        "outputId": "994ff143-175d-4c51-ed76-d63a6fba1538"
      },
      "id": "UA-tSWVmOpjp",
      "execution_count": 14,
      "outputs": [
        {
          "output_type": "stream",
          "name": "stdout",
          "text": [
            "(array([  16, 1832, 2134]),)\n",
            "(array([  26,   37,  101,  102,  110,  156,  159,  180,  202,  212,  257,\n",
            "        284,  336,  491,  682,  711,  977,  980, 1020, 1111, 1274, 1325,\n",
            "       1342, 1410, 1498, 2014, 2033, 2118, 2280, 2439, 2499, 2552, 2865,\n",
            "       3099, 3148, 3766, 3954, 4057, 4145, 4154, 4167, 4292, 4400, 4590,\n",
            "       4659, 4708, 4897, 4932, 4960]),)\n"
          ]
        }
      ]
    },
    {
      "cell_type": "code",
      "source": [
        "data = data.drop([16, 1832, 2134])\n"
      ],
      "metadata": {
        "id": "EzmLvQueN2A0"
      },
      "id": "EzmLvQueN2A0",
      "execution_count": 15,
      "outputs": []
    },
    {
      "cell_type": "code",
      "source": [
        "data = data.drop([26,   37,  101,  102,  110,  156,  159,  180,  202,  212,  257,284,  336,  491,  682,  711,  977,  980, 1020, 1111, 1274, 1325,\n",
        "       1342, 1410, 1498, 2014, 2033, 2118, 2280, 2439, 2499, 2552, 2865,\n",
        "       3099, 3148, 3766, 3954, 4057, 4145, 4154, 4167, 4292, 4400, 4590,\n",
        "       4659, 4708, 4897, 4932, 4960])"
      ],
      "metadata": {
        "id": "Z6Ek0WoAQh9P"
      },
      "id": "Z6Ek0WoAQh9P",
      "execution_count": 16,
      "outputs": []
    },
    {
      "cell_type": "markdown",
      "source": [
        "**We have got the index of outliers now we have to remove the outliers from the dataset.**"
      ],
      "metadata": {
        "id": "il1yeI0IEULi"
      },
      "id": "il1yeI0IEULi"
    },
    {
      "cell_type": "code",
      "source": [
        "data"
      ],
      "metadata": {
        "colab": {
          "base_uri": "https://localhost:8080/",
          "height": 424
        },
        "id": "h8biEc00QlOb",
        "outputId": "dbc00981-88cc-424b-b527-b230e362430c"
      },
      "id": "h8biEc00QlOb",
      "execution_count": 17,
      "outputs": [
        {
          "output_type": "execute_result",
          "data": {
            "text/plain": [
              "      gender   age  hypertension  heart_disease ever_married      work_type  \\\n",
              "0       Male  67.0             0              1          Yes        Private   \n",
              "1       Male  80.0             0              1          Yes        Private   \n",
              "2     Female  49.0             0              0          Yes        Private   \n",
              "5     Female  79.0             1              0          Yes  Self-employed   \n",
              "7       Male  74.0             1              1          Yes        Private   \n",
              "...      ...   ...           ...            ...          ...            ...   \n",
              "4978    Male  41.0             0              0           No        Private   \n",
              "4979    Male  40.0             0              0          Yes        Private   \n",
              "4980  Female  45.0             1              0          Yes       Govt_job   \n",
              "4981    Male  40.0             0              0          Yes        Private   \n",
              "4982  Female  80.0             1              0          Yes        Private   \n",
              "\n",
              "     Residence_type  avg_glucose_level   bmi   smoking_status  stroke  \n",
              "0             Urban             228.69  36.6  formerly smoked       1  \n",
              "1             Rural             105.92  32.5     never smoked       1  \n",
              "2             Urban             171.23  34.4           smokes       1  \n",
              "5             Rural             174.12  24.0     never smoked       1  \n",
              "7             Rural              70.09  27.4     never smoked       1  \n",
              "...             ...                ...   ...              ...     ...  \n",
              "4978          Rural              70.15  29.8  formerly smoked       0  \n",
              "4979          Urban             191.15  31.1           smokes       0  \n",
              "4980          Rural              95.02  31.8           smokes       0  \n",
              "4981          Rural              83.94  30.0           smokes       0  \n",
              "4982          Urban              83.75  29.1     never smoked       0  \n",
              "\n",
              "[4928 rows x 11 columns]"
            ],
            "text/html": [
              "\n",
              "  <div id=\"df-48114fdb-762d-40d5-a307-01d1d4bd24b8\">\n",
              "    <div class=\"colab-df-container\">\n",
              "      <div>\n",
              "<style scoped>\n",
              "    .dataframe tbody tr th:only-of-type {\n",
              "        vertical-align: middle;\n",
              "    }\n",
              "\n",
              "    .dataframe tbody tr th {\n",
              "        vertical-align: top;\n",
              "    }\n",
              "\n",
              "    .dataframe thead th {\n",
              "        text-align: right;\n",
              "    }\n",
              "</style>\n",
              "<table border=\"1\" class=\"dataframe\">\n",
              "  <thead>\n",
              "    <tr style=\"text-align: right;\">\n",
              "      <th></th>\n",
              "      <th>gender</th>\n",
              "      <th>age</th>\n",
              "      <th>hypertension</th>\n",
              "      <th>heart_disease</th>\n",
              "      <th>ever_married</th>\n",
              "      <th>work_type</th>\n",
              "      <th>Residence_type</th>\n",
              "      <th>avg_glucose_level</th>\n",
              "      <th>bmi</th>\n",
              "      <th>smoking_status</th>\n",
              "      <th>stroke</th>\n",
              "    </tr>\n",
              "  </thead>\n",
              "  <tbody>\n",
              "    <tr>\n",
              "      <th>0</th>\n",
              "      <td>Male</td>\n",
              "      <td>67.0</td>\n",
              "      <td>0</td>\n",
              "      <td>1</td>\n",
              "      <td>Yes</td>\n",
              "      <td>Private</td>\n",
              "      <td>Urban</td>\n",
              "      <td>228.69</td>\n",
              "      <td>36.6</td>\n",
              "      <td>formerly smoked</td>\n",
              "      <td>1</td>\n",
              "    </tr>\n",
              "    <tr>\n",
              "      <th>1</th>\n",
              "      <td>Male</td>\n",
              "      <td>80.0</td>\n",
              "      <td>0</td>\n",
              "      <td>1</td>\n",
              "      <td>Yes</td>\n",
              "      <td>Private</td>\n",
              "      <td>Rural</td>\n",
              "      <td>105.92</td>\n",
              "      <td>32.5</td>\n",
              "      <td>never smoked</td>\n",
              "      <td>1</td>\n",
              "    </tr>\n",
              "    <tr>\n",
              "      <th>2</th>\n",
              "      <td>Female</td>\n",
              "      <td>49.0</td>\n",
              "      <td>0</td>\n",
              "      <td>0</td>\n",
              "      <td>Yes</td>\n",
              "      <td>Private</td>\n",
              "      <td>Urban</td>\n",
              "      <td>171.23</td>\n",
              "      <td>34.4</td>\n",
              "      <td>smokes</td>\n",
              "      <td>1</td>\n",
              "    </tr>\n",
              "    <tr>\n",
              "      <th>5</th>\n",
              "      <td>Female</td>\n",
              "      <td>79.0</td>\n",
              "      <td>1</td>\n",
              "      <td>0</td>\n",
              "      <td>Yes</td>\n",
              "      <td>Self-employed</td>\n",
              "      <td>Rural</td>\n",
              "      <td>174.12</td>\n",
              "      <td>24.0</td>\n",
              "      <td>never smoked</td>\n",
              "      <td>1</td>\n",
              "    </tr>\n",
              "    <tr>\n",
              "      <th>7</th>\n",
              "      <td>Male</td>\n",
              "      <td>74.0</td>\n",
              "      <td>1</td>\n",
              "      <td>1</td>\n",
              "      <td>Yes</td>\n",
              "      <td>Private</td>\n",
              "      <td>Rural</td>\n",
              "      <td>70.09</td>\n",
              "      <td>27.4</td>\n",
              "      <td>never smoked</td>\n",
              "      <td>1</td>\n",
              "    </tr>\n",
              "    <tr>\n",
              "      <th>...</th>\n",
              "      <td>...</td>\n",
              "      <td>...</td>\n",
              "      <td>...</td>\n",
              "      <td>...</td>\n",
              "      <td>...</td>\n",
              "      <td>...</td>\n",
              "      <td>...</td>\n",
              "      <td>...</td>\n",
              "      <td>...</td>\n",
              "      <td>...</td>\n",
              "      <td>...</td>\n",
              "    </tr>\n",
              "    <tr>\n",
              "      <th>4978</th>\n",
              "      <td>Male</td>\n",
              "      <td>41.0</td>\n",
              "      <td>0</td>\n",
              "      <td>0</td>\n",
              "      <td>No</td>\n",
              "      <td>Private</td>\n",
              "      <td>Rural</td>\n",
              "      <td>70.15</td>\n",
              "      <td>29.8</td>\n",
              "      <td>formerly smoked</td>\n",
              "      <td>0</td>\n",
              "    </tr>\n",
              "    <tr>\n",
              "      <th>4979</th>\n",
              "      <td>Male</td>\n",
              "      <td>40.0</td>\n",
              "      <td>0</td>\n",
              "      <td>0</td>\n",
              "      <td>Yes</td>\n",
              "      <td>Private</td>\n",
              "      <td>Urban</td>\n",
              "      <td>191.15</td>\n",
              "      <td>31.1</td>\n",
              "      <td>smokes</td>\n",
              "      <td>0</td>\n",
              "    </tr>\n",
              "    <tr>\n",
              "      <th>4980</th>\n",
              "      <td>Female</td>\n",
              "      <td>45.0</td>\n",
              "      <td>1</td>\n",
              "      <td>0</td>\n",
              "      <td>Yes</td>\n",
              "      <td>Govt_job</td>\n",
              "      <td>Rural</td>\n",
              "      <td>95.02</td>\n",
              "      <td>31.8</td>\n",
              "      <td>smokes</td>\n",
              "      <td>0</td>\n",
              "    </tr>\n",
              "    <tr>\n",
              "      <th>4981</th>\n",
              "      <td>Male</td>\n",
              "      <td>40.0</td>\n",
              "      <td>0</td>\n",
              "      <td>0</td>\n",
              "      <td>Yes</td>\n",
              "      <td>Private</td>\n",
              "      <td>Rural</td>\n",
              "      <td>83.94</td>\n",
              "      <td>30.0</td>\n",
              "      <td>smokes</td>\n",
              "      <td>0</td>\n",
              "    </tr>\n",
              "    <tr>\n",
              "      <th>4982</th>\n",
              "      <td>Female</td>\n",
              "      <td>80.0</td>\n",
              "      <td>1</td>\n",
              "      <td>0</td>\n",
              "      <td>Yes</td>\n",
              "      <td>Private</td>\n",
              "      <td>Urban</td>\n",
              "      <td>83.75</td>\n",
              "      <td>29.1</td>\n",
              "      <td>never smoked</td>\n",
              "      <td>0</td>\n",
              "    </tr>\n",
              "  </tbody>\n",
              "</table>\n",
              "<p>4928 rows × 11 columns</p>\n",
              "</div>\n",
              "      <button class=\"colab-df-convert\" onclick=\"convertToInteractive('df-48114fdb-762d-40d5-a307-01d1d4bd24b8')\"\n",
              "              title=\"Convert this dataframe to an interactive table.\"\n",
              "              style=\"display:none;\">\n",
              "        \n",
              "  <svg xmlns=\"http://www.w3.org/2000/svg\" height=\"24px\"viewBox=\"0 0 24 24\"\n",
              "       width=\"24px\">\n",
              "    <path d=\"M0 0h24v24H0V0z\" fill=\"none\"/>\n",
              "    <path d=\"M18.56 5.44l.94 2.06.94-2.06 2.06-.94-2.06-.94-.94-2.06-.94 2.06-2.06.94zm-11 1L8.5 8.5l.94-2.06 2.06-.94-2.06-.94L8.5 2.5l-.94 2.06-2.06.94zm10 10l.94 2.06.94-2.06 2.06-.94-2.06-.94-.94-2.06-.94 2.06-2.06.94z\"/><path d=\"M17.41 7.96l-1.37-1.37c-.4-.4-.92-.59-1.43-.59-.52 0-1.04.2-1.43.59L10.3 9.45l-7.72 7.72c-.78.78-.78 2.05 0 2.83L4 21.41c.39.39.9.59 1.41.59.51 0 1.02-.2 1.41-.59l7.78-7.78 2.81-2.81c.8-.78.8-2.07 0-2.86zM5.41 20L4 18.59l7.72-7.72 1.47 1.35L5.41 20z\"/>\n",
              "  </svg>\n",
              "      </button>\n",
              "      \n",
              "  <style>\n",
              "    .colab-df-container {\n",
              "      display:flex;\n",
              "      flex-wrap:wrap;\n",
              "      gap: 12px;\n",
              "    }\n",
              "\n",
              "    .colab-df-convert {\n",
              "      background-color: #E8F0FE;\n",
              "      border: none;\n",
              "      border-radius: 50%;\n",
              "      cursor: pointer;\n",
              "      display: none;\n",
              "      fill: #1967D2;\n",
              "      height: 32px;\n",
              "      padding: 0 0 0 0;\n",
              "      width: 32px;\n",
              "    }\n",
              "\n",
              "    .colab-df-convert:hover {\n",
              "      background-color: #E2EBFA;\n",
              "      box-shadow: 0px 1px 2px rgba(60, 64, 67, 0.3), 0px 1px 3px 1px rgba(60, 64, 67, 0.15);\n",
              "      fill: #174EA6;\n",
              "    }\n",
              "\n",
              "    [theme=dark] .colab-df-convert {\n",
              "      background-color: #3B4455;\n",
              "      fill: #D2E3FC;\n",
              "    }\n",
              "\n",
              "    [theme=dark] .colab-df-convert:hover {\n",
              "      background-color: #434B5C;\n",
              "      box-shadow: 0px 1px 3px 1px rgba(0, 0, 0, 0.15);\n",
              "      filter: drop-shadow(0px 1px 2px rgba(0, 0, 0, 0.3));\n",
              "      fill: #FFFFFF;\n",
              "    }\n",
              "  </style>\n",
              "\n",
              "      <script>\n",
              "        const buttonEl =\n",
              "          document.querySelector('#df-48114fdb-762d-40d5-a307-01d1d4bd24b8 button.colab-df-convert');\n",
              "        buttonEl.style.display =\n",
              "          google.colab.kernel.accessAllowed ? 'block' : 'none';\n",
              "\n",
              "        async function convertToInteractive(key) {\n",
              "          const element = document.querySelector('#df-48114fdb-762d-40d5-a307-01d1d4bd24b8');\n",
              "          const dataTable =\n",
              "            await google.colab.kernel.invokeFunction('convertToInteractive',\n",
              "                                                     [key], {});\n",
              "          if (!dataTable) return;\n",
              "\n",
              "          const docLinkHtml = 'Like what you see? Visit the ' +\n",
              "            '<a target=\"_blank\" href=https://colab.research.google.com/notebooks/data_table.ipynb>data table notebook</a>'\n",
              "            + ' to learn more about interactive tables.';\n",
              "          element.innerHTML = '';\n",
              "          dataTable['output_type'] = 'display_data';\n",
              "          await google.colab.output.renderOutput(dataTable, element);\n",
              "          const docLink = document.createElement('div');\n",
              "          docLink.innerHTML = docLinkHtml;\n",
              "          element.appendChild(docLink);\n",
              "        }\n",
              "      </script>\n",
              "    </div>\n",
              "  </div>\n",
              "  "
            ]
          },
          "metadata": {},
          "execution_count": 17
        }
      ]
    },
    {
      "cell_type": "markdown",
      "source": [
        "Check if all Outliers are deleted \n",
        "\n"
      ],
      "metadata": {
        "id": "hgBc9orCFfZx"
      },
      "id": "hgBc9orCFfZx"
    },
    {
      "cell_type": "code",
      "execution_count": 18,
      "id": "e93e3034",
      "metadata": {
        "colab": {
          "base_uri": "https://localhost:8080/"
        },
        "id": "e93e3034",
        "outputId": "95cc563f-bc8a-4d59-c4de-9ca47393a0e2"
      },
      "outputs": [
        {
          "output_type": "stream",
          "name": "stdout",
          "text": [
            "<class 'pandas.core.frame.DataFrame'>\n",
            "Int64Index: 4928 entries, 0 to 4982\n",
            "Data columns (total 11 columns):\n",
            " #   Column             Non-Null Count  Dtype  \n",
            "---  ------             --------------  -----  \n",
            " 0   gender             4928 non-null   object \n",
            " 1   age                4928 non-null   float64\n",
            " 2   hypertension       4928 non-null   int64  \n",
            " 3   heart_disease      4928 non-null   int64  \n",
            " 4   ever_married       4928 non-null   object \n",
            " 5   work_type          4928 non-null   object \n",
            " 6   Residence_type     4928 non-null   object \n",
            " 7   avg_glucose_level  4928 non-null   float64\n",
            " 8   bmi                4928 non-null   float64\n",
            " 9   smoking_status     4928 non-null   object \n",
            " 10  stroke             4928 non-null   int64  \n",
            "dtypes: float64(3), int64(3), object(5)\n",
            "memory usage: 462.0+ KB\n"
          ]
        }
      ],
      "source": [
        "data.info()"
      ]
    },
    {
      "cell_type": "code",
      "source": [
        "data.describe(include = object).T"
      ],
      "metadata": {
        "colab": {
          "base_uri": "https://localhost:8080/",
          "height": 206
        },
        "id": "LDmzHn2oRXyv",
        "outputId": "3811e1e4-4467-47a6-d01c-d25a8a0be5bf"
      },
      "id": "LDmzHn2oRXyv",
      "execution_count": 19,
      "outputs": [
        {
          "output_type": "execute_result",
          "data": {
            "text/plain": [
              "               count unique           top  freq\n",
              "gender          4928      2        Female  2879\n",
              "ever_married    4928      2           Yes  3244\n",
              "work_type       4928      4       Private  2823\n",
              "Residence_type  4928      2         Urban  2505\n",
              "smoking_status  4928      4  never smoked  1815"
            ],
            "text/html": [
              "\n",
              "  <div id=\"df-a5ccf3c1-f785-48ff-b773-35c57d346d5e\">\n",
              "    <div class=\"colab-df-container\">\n",
              "      <div>\n",
              "<style scoped>\n",
              "    .dataframe tbody tr th:only-of-type {\n",
              "        vertical-align: middle;\n",
              "    }\n",
              "\n",
              "    .dataframe tbody tr th {\n",
              "        vertical-align: top;\n",
              "    }\n",
              "\n",
              "    .dataframe thead th {\n",
              "        text-align: right;\n",
              "    }\n",
              "</style>\n",
              "<table border=\"1\" class=\"dataframe\">\n",
              "  <thead>\n",
              "    <tr style=\"text-align: right;\">\n",
              "      <th></th>\n",
              "      <th>count</th>\n",
              "      <th>unique</th>\n",
              "      <th>top</th>\n",
              "      <th>freq</th>\n",
              "    </tr>\n",
              "  </thead>\n",
              "  <tbody>\n",
              "    <tr>\n",
              "      <th>gender</th>\n",
              "      <td>4928</td>\n",
              "      <td>2</td>\n",
              "      <td>Female</td>\n",
              "      <td>2879</td>\n",
              "    </tr>\n",
              "    <tr>\n",
              "      <th>ever_married</th>\n",
              "      <td>4928</td>\n",
              "      <td>2</td>\n",
              "      <td>Yes</td>\n",
              "      <td>3244</td>\n",
              "    </tr>\n",
              "    <tr>\n",
              "      <th>work_type</th>\n",
              "      <td>4928</td>\n",
              "      <td>4</td>\n",
              "      <td>Private</td>\n",
              "      <td>2823</td>\n",
              "    </tr>\n",
              "    <tr>\n",
              "      <th>Residence_type</th>\n",
              "      <td>4928</td>\n",
              "      <td>2</td>\n",
              "      <td>Urban</td>\n",
              "      <td>2505</td>\n",
              "    </tr>\n",
              "    <tr>\n",
              "      <th>smoking_status</th>\n",
              "      <td>4928</td>\n",
              "      <td>4</td>\n",
              "      <td>never smoked</td>\n",
              "      <td>1815</td>\n",
              "    </tr>\n",
              "  </tbody>\n",
              "</table>\n",
              "</div>\n",
              "      <button class=\"colab-df-convert\" onclick=\"convertToInteractive('df-a5ccf3c1-f785-48ff-b773-35c57d346d5e')\"\n",
              "              title=\"Convert this dataframe to an interactive table.\"\n",
              "              style=\"display:none;\">\n",
              "        \n",
              "  <svg xmlns=\"http://www.w3.org/2000/svg\" height=\"24px\"viewBox=\"0 0 24 24\"\n",
              "       width=\"24px\">\n",
              "    <path d=\"M0 0h24v24H0V0z\" fill=\"none\"/>\n",
              "    <path d=\"M18.56 5.44l.94 2.06.94-2.06 2.06-.94-2.06-.94-.94-2.06-.94 2.06-2.06.94zm-11 1L8.5 8.5l.94-2.06 2.06-.94-2.06-.94L8.5 2.5l-.94 2.06-2.06.94zm10 10l.94 2.06.94-2.06 2.06-.94-2.06-.94-.94-2.06-.94 2.06-2.06.94z\"/><path d=\"M17.41 7.96l-1.37-1.37c-.4-.4-.92-.59-1.43-.59-.52 0-1.04.2-1.43.59L10.3 9.45l-7.72 7.72c-.78.78-.78 2.05 0 2.83L4 21.41c.39.39.9.59 1.41.59.51 0 1.02-.2 1.41-.59l7.78-7.78 2.81-2.81c.8-.78.8-2.07 0-2.86zM5.41 20L4 18.59l7.72-7.72 1.47 1.35L5.41 20z\"/>\n",
              "  </svg>\n",
              "      </button>\n",
              "      \n",
              "  <style>\n",
              "    .colab-df-container {\n",
              "      display:flex;\n",
              "      flex-wrap:wrap;\n",
              "      gap: 12px;\n",
              "    }\n",
              "\n",
              "    .colab-df-convert {\n",
              "      background-color: #E8F0FE;\n",
              "      border: none;\n",
              "      border-radius: 50%;\n",
              "      cursor: pointer;\n",
              "      display: none;\n",
              "      fill: #1967D2;\n",
              "      height: 32px;\n",
              "      padding: 0 0 0 0;\n",
              "      width: 32px;\n",
              "    }\n",
              "\n",
              "    .colab-df-convert:hover {\n",
              "      background-color: #E2EBFA;\n",
              "      box-shadow: 0px 1px 2px rgba(60, 64, 67, 0.3), 0px 1px 3px 1px rgba(60, 64, 67, 0.15);\n",
              "      fill: #174EA6;\n",
              "    }\n",
              "\n",
              "    [theme=dark] .colab-df-convert {\n",
              "      background-color: #3B4455;\n",
              "      fill: #D2E3FC;\n",
              "    }\n",
              "\n",
              "    [theme=dark] .colab-df-convert:hover {\n",
              "      background-color: #434B5C;\n",
              "      box-shadow: 0px 1px 3px 1px rgba(0, 0, 0, 0.15);\n",
              "      filter: drop-shadow(0px 1px 2px rgba(0, 0, 0, 0.3));\n",
              "      fill: #FFFFFF;\n",
              "    }\n",
              "  </style>\n",
              "\n",
              "      <script>\n",
              "        const buttonEl =\n",
              "          document.querySelector('#df-a5ccf3c1-f785-48ff-b773-35c57d346d5e button.colab-df-convert');\n",
              "        buttonEl.style.display =\n",
              "          google.colab.kernel.accessAllowed ? 'block' : 'none';\n",
              "\n",
              "        async function convertToInteractive(key) {\n",
              "          const element = document.querySelector('#df-a5ccf3c1-f785-48ff-b773-35c57d346d5e');\n",
              "          const dataTable =\n",
              "            await google.colab.kernel.invokeFunction('convertToInteractive',\n",
              "                                                     [key], {});\n",
              "          if (!dataTable) return;\n",
              "\n",
              "          const docLinkHtml = 'Like what you see? Visit the ' +\n",
              "            '<a target=\"_blank\" href=https://colab.research.google.com/notebooks/data_table.ipynb>data table notebook</a>'\n",
              "            + ' to learn more about interactive tables.';\n",
              "          element.innerHTML = '';\n",
              "          dataTable['output_type'] = 'display_data';\n",
              "          await google.colab.output.renderOutput(dataTable, element);\n",
              "          const docLink = document.createElement('div');\n",
              "          docLink.innerHTML = docLinkHtml;\n",
              "          element.appendChild(docLink);\n",
              "        }\n",
              "      </script>\n",
              "    </div>\n",
              "  </div>\n",
              "  "
            ]
          },
          "metadata": {},
          "execution_count": 19
        }
      ]
    },
    {
      "cell_type": "markdown",
      "source": [
        "**So, After data cleaning the rows are reduced to 4928. And the data is cleaned successfully.**"
      ],
      "metadata": {
        "id": "z36Zb9KZSoSK"
      },
      "id": "z36Zb9KZSoSK"
    },
    {
      "cell_type": "markdown",
      "source": [
        "## Exploratory Data Analysis (EDA)"
      ],
      "metadata": {
        "id": "enJQIg0oTbzv"
      },
      "id": "enJQIg0oTbzv"
    },
    {
      "cell_type": "code",
      "source": [
        "data['hypertension'] = data['hypertension'].map(lambda x: 'Yes' if x == 1 else 'No')\n",
        "data['hypertension'] = data['hypertension'].astype(object)\n",
        "data['heart_disease'] = data['heart_disease'].map(lambda x: 'Yes' if x == 1 else 'No')\n",
        "data['heart_disease'] = data['heart_disease'].astype(object)\n",
        "data['stroke'] = data['stroke'].map(lambda x: 'Yes' if x == 1 else 'No')\n",
        "data['stroke'] = data['stroke'].astype(object)\n",
        "data"
      ],
      "metadata": {
        "colab": {
          "base_uri": "https://localhost:8080/",
          "height": 424
        },
        "id": "nud9EnARVq_h",
        "outputId": "a9a3949e-c1d4-40be-e6fa-e7c711bbbb8a"
      },
      "id": "nud9EnARVq_h",
      "execution_count": 20,
      "outputs": [
        {
          "output_type": "execute_result",
          "data": {
            "text/plain": [
              "      gender   age hypertension heart_disease ever_married      work_type  \\\n",
              "0       Male  67.0           No           Yes          Yes        Private   \n",
              "1       Male  80.0           No           Yes          Yes        Private   \n",
              "2     Female  49.0           No            No          Yes        Private   \n",
              "5     Female  79.0          Yes            No          Yes  Self-employed   \n",
              "7       Male  74.0          Yes           Yes          Yes        Private   \n",
              "...      ...   ...          ...           ...          ...            ...   \n",
              "4978    Male  41.0           No            No           No        Private   \n",
              "4979    Male  40.0           No            No          Yes        Private   \n",
              "4980  Female  45.0          Yes            No          Yes       Govt_job   \n",
              "4981    Male  40.0           No            No          Yes        Private   \n",
              "4982  Female  80.0          Yes            No          Yes        Private   \n",
              "\n",
              "     Residence_type  avg_glucose_level   bmi   smoking_status stroke  \n",
              "0             Urban             228.69  36.6  formerly smoked    Yes  \n",
              "1             Rural             105.92  32.5     never smoked    Yes  \n",
              "2             Urban             171.23  34.4           smokes    Yes  \n",
              "5             Rural             174.12  24.0     never smoked    Yes  \n",
              "7             Rural              70.09  27.4     never smoked    Yes  \n",
              "...             ...                ...   ...              ...    ...  \n",
              "4978          Rural              70.15  29.8  formerly smoked     No  \n",
              "4979          Urban             191.15  31.1           smokes     No  \n",
              "4980          Rural              95.02  31.8           smokes     No  \n",
              "4981          Rural              83.94  30.0           smokes     No  \n",
              "4982          Urban              83.75  29.1     never smoked     No  \n",
              "\n",
              "[4928 rows x 11 columns]"
            ],
            "text/html": [
              "\n",
              "  <div id=\"df-275b9ec8-0259-4063-bb35-bb6ff17a73a3\">\n",
              "    <div class=\"colab-df-container\">\n",
              "      <div>\n",
              "<style scoped>\n",
              "    .dataframe tbody tr th:only-of-type {\n",
              "        vertical-align: middle;\n",
              "    }\n",
              "\n",
              "    .dataframe tbody tr th {\n",
              "        vertical-align: top;\n",
              "    }\n",
              "\n",
              "    .dataframe thead th {\n",
              "        text-align: right;\n",
              "    }\n",
              "</style>\n",
              "<table border=\"1\" class=\"dataframe\">\n",
              "  <thead>\n",
              "    <tr style=\"text-align: right;\">\n",
              "      <th></th>\n",
              "      <th>gender</th>\n",
              "      <th>age</th>\n",
              "      <th>hypertension</th>\n",
              "      <th>heart_disease</th>\n",
              "      <th>ever_married</th>\n",
              "      <th>work_type</th>\n",
              "      <th>Residence_type</th>\n",
              "      <th>avg_glucose_level</th>\n",
              "      <th>bmi</th>\n",
              "      <th>smoking_status</th>\n",
              "      <th>stroke</th>\n",
              "    </tr>\n",
              "  </thead>\n",
              "  <tbody>\n",
              "    <tr>\n",
              "      <th>0</th>\n",
              "      <td>Male</td>\n",
              "      <td>67.0</td>\n",
              "      <td>No</td>\n",
              "      <td>Yes</td>\n",
              "      <td>Yes</td>\n",
              "      <td>Private</td>\n",
              "      <td>Urban</td>\n",
              "      <td>228.69</td>\n",
              "      <td>36.6</td>\n",
              "      <td>formerly smoked</td>\n",
              "      <td>Yes</td>\n",
              "    </tr>\n",
              "    <tr>\n",
              "      <th>1</th>\n",
              "      <td>Male</td>\n",
              "      <td>80.0</td>\n",
              "      <td>No</td>\n",
              "      <td>Yes</td>\n",
              "      <td>Yes</td>\n",
              "      <td>Private</td>\n",
              "      <td>Rural</td>\n",
              "      <td>105.92</td>\n",
              "      <td>32.5</td>\n",
              "      <td>never smoked</td>\n",
              "      <td>Yes</td>\n",
              "    </tr>\n",
              "    <tr>\n",
              "      <th>2</th>\n",
              "      <td>Female</td>\n",
              "      <td>49.0</td>\n",
              "      <td>No</td>\n",
              "      <td>No</td>\n",
              "      <td>Yes</td>\n",
              "      <td>Private</td>\n",
              "      <td>Urban</td>\n",
              "      <td>171.23</td>\n",
              "      <td>34.4</td>\n",
              "      <td>smokes</td>\n",
              "      <td>Yes</td>\n",
              "    </tr>\n",
              "    <tr>\n",
              "      <th>5</th>\n",
              "      <td>Female</td>\n",
              "      <td>79.0</td>\n",
              "      <td>Yes</td>\n",
              "      <td>No</td>\n",
              "      <td>Yes</td>\n",
              "      <td>Self-employed</td>\n",
              "      <td>Rural</td>\n",
              "      <td>174.12</td>\n",
              "      <td>24.0</td>\n",
              "      <td>never smoked</td>\n",
              "      <td>Yes</td>\n",
              "    </tr>\n",
              "    <tr>\n",
              "      <th>7</th>\n",
              "      <td>Male</td>\n",
              "      <td>74.0</td>\n",
              "      <td>Yes</td>\n",
              "      <td>Yes</td>\n",
              "      <td>Yes</td>\n",
              "      <td>Private</td>\n",
              "      <td>Rural</td>\n",
              "      <td>70.09</td>\n",
              "      <td>27.4</td>\n",
              "      <td>never smoked</td>\n",
              "      <td>Yes</td>\n",
              "    </tr>\n",
              "    <tr>\n",
              "      <th>...</th>\n",
              "      <td>...</td>\n",
              "      <td>...</td>\n",
              "      <td>...</td>\n",
              "      <td>...</td>\n",
              "      <td>...</td>\n",
              "      <td>...</td>\n",
              "      <td>...</td>\n",
              "      <td>...</td>\n",
              "      <td>...</td>\n",
              "      <td>...</td>\n",
              "      <td>...</td>\n",
              "    </tr>\n",
              "    <tr>\n",
              "      <th>4978</th>\n",
              "      <td>Male</td>\n",
              "      <td>41.0</td>\n",
              "      <td>No</td>\n",
              "      <td>No</td>\n",
              "      <td>No</td>\n",
              "      <td>Private</td>\n",
              "      <td>Rural</td>\n",
              "      <td>70.15</td>\n",
              "      <td>29.8</td>\n",
              "      <td>formerly smoked</td>\n",
              "      <td>No</td>\n",
              "    </tr>\n",
              "    <tr>\n",
              "      <th>4979</th>\n",
              "      <td>Male</td>\n",
              "      <td>40.0</td>\n",
              "      <td>No</td>\n",
              "      <td>No</td>\n",
              "      <td>Yes</td>\n",
              "      <td>Private</td>\n",
              "      <td>Urban</td>\n",
              "      <td>191.15</td>\n",
              "      <td>31.1</td>\n",
              "      <td>smokes</td>\n",
              "      <td>No</td>\n",
              "    </tr>\n",
              "    <tr>\n",
              "      <th>4980</th>\n",
              "      <td>Female</td>\n",
              "      <td>45.0</td>\n",
              "      <td>Yes</td>\n",
              "      <td>No</td>\n",
              "      <td>Yes</td>\n",
              "      <td>Govt_job</td>\n",
              "      <td>Rural</td>\n",
              "      <td>95.02</td>\n",
              "      <td>31.8</td>\n",
              "      <td>smokes</td>\n",
              "      <td>No</td>\n",
              "    </tr>\n",
              "    <tr>\n",
              "      <th>4981</th>\n",
              "      <td>Male</td>\n",
              "      <td>40.0</td>\n",
              "      <td>No</td>\n",
              "      <td>No</td>\n",
              "      <td>Yes</td>\n",
              "      <td>Private</td>\n",
              "      <td>Rural</td>\n",
              "      <td>83.94</td>\n",
              "      <td>30.0</td>\n",
              "      <td>smokes</td>\n",
              "      <td>No</td>\n",
              "    </tr>\n",
              "    <tr>\n",
              "      <th>4982</th>\n",
              "      <td>Female</td>\n",
              "      <td>80.0</td>\n",
              "      <td>Yes</td>\n",
              "      <td>No</td>\n",
              "      <td>Yes</td>\n",
              "      <td>Private</td>\n",
              "      <td>Urban</td>\n",
              "      <td>83.75</td>\n",
              "      <td>29.1</td>\n",
              "      <td>never smoked</td>\n",
              "      <td>No</td>\n",
              "    </tr>\n",
              "  </tbody>\n",
              "</table>\n",
              "<p>4928 rows × 11 columns</p>\n",
              "</div>\n",
              "      <button class=\"colab-df-convert\" onclick=\"convertToInteractive('df-275b9ec8-0259-4063-bb35-bb6ff17a73a3')\"\n",
              "              title=\"Convert this dataframe to an interactive table.\"\n",
              "              style=\"display:none;\">\n",
              "        \n",
              "  <svg xmlns=\"http://www.w3.org/2000/svg\" height=\"24px\"viewBox=\"0 0 24 24\"\n",
              "       width=\"24px\">\n",
              "    <path d=\"M0 0h24v24H0V0z\" fill=\"none\"/>\n",
              "    <path d=\"M18.56 5.44l.94 2.06.94-2.06 2.06-.94-2.06-.94-.94-2.06-.94 2.06-2.06.94zm-11 1L8.5 8.5l.94-2.06 2.06-.94-2.06-.94L8.5 2.5l-.94 2.06-2.06.94zm10 10l.94 2.06.94-2.06 2.06-.94-2.06-.94-.94-2.06-.94 2.06-2.06.94z\"/><path d=\"M17.41 7.96l-1.37-1.37c-.4-.4-.92-.59-1.43-.59-.52 0-1.04.2-1.43.59L10.3 9.45l-7.72 7.72c-.78.78-.78 2.05 0 2.83L4 21.41c.39.39.9.59 1.41.59.51 0 1.02-.2 1.41-.59l7.78-7.78 2.81-2.81c.8-.78.8-2.07 0-2.86zM5.41 20L4 18.59l7.72-7.72 1.47 1.35L5.41 20z\"/>\n",
              "  </svg>\n",
              "      </button>\n",
              "      \n",
              "  <style>\n",
              "    .colab-df-container {\n",
              "      display:flex;\n",
              "      flex-wrap:wrap;\n",
              "      gap: 12px;\n",
              "    }\n",
              "\n",
              "    .colab-df-convert {\n",
              "      background-color: #E8F0FE;\n",
              "      border: none;\n",
              "      border-radius: 50%;\n",
              "      cursor: pointer;\n",
              "      display: none;\n",
              "      fill: #1967D2;\n",
              "      height: 32px;\n",
              "      padding: 0 0 0 0;\n",
              "      width: 32px;\n",
              "    }\n",
              "\n",
              "    .colab-df-convert:hover {\n",
              "      background-color: #E2EBFA;\n",
              "      box-shadow: 0px 1px 2px rgba(60, 64, 67, 0.3), 0px 1px 3px 1px rgba(60, 64, 67, 0.15);\n",
              "      fill: #174EA6;\n",
              "    }\n",
              "\n",
              "    [theme=dark] .colab-df-convert {\n",
              "      background-color: #3B4455;\n",
              "      fill: #D2E3FC;\n",
              "    }\n",
              "\n",
              "    [theme=dark] .colab-df-convert:hover {\n",
              "      background-color: #434B5C;\n",
              "      box-shadow: 0px 1px 3px 1px rgba(0, 0, 0, 0.15);\n",
              "      filter: drop-shadow(0px 1px 2px rgba(0, 0, 0, 0.3));\n",
              "      fill: #FFFFFF;\n",
              "    }\n",
              "  </style>\n",
              "\n",
              "      <script>\n",
              "        const buttonEl =\n",
              "          document.querySelector('#df-275b9ec8-0259-4063-bb35-bb6ff17a73a3 button.colab-df-convert');\n",
              "        buttonEl.style.display =\n",
              "          google.colab.kernel.accessAllowed ? 'block' : 'none';\n",
              "\n",
              "        async function convertToInteractive(key) {\n",
              "          const element = document.querySelector('#df-275b9ec8-0259-4063-bb35-bb6ff17a73a3');\n",
              "          const dataTable =\n",
              "            await google.colab.kernel.invokeFunction('convertToInteractive',\n",
              "                                                     [key], {});\n",
              "          if (!dataTable) return;\n",
              "\n",
              "          const docLinkHtml = 'Like what you see? Visit the ' +\n",
              "            '<a target=\"_blank\" href=https://colab.research.google.com/notebooks/data_table.ipynb>data table notebook</a>'\n",
              "            + ' to learn more about interactive tables.';\n",
              "          element.innerHTML = '';\n",
              "          dataTable['output_type'] = 'display_data';\n",
              "          await google.colab.output.renderOutput(dataTable, element);\n",
              "          const docLink = document.createElement('div');\n",
              "          docLink.innerHTML = docLinkHtml;\n",
              "          element.appendChild(docLink);\n",
              "        }\n",
              "      </script>\n",
              "    </div>\n",
              "  </div>\n",
              "  "
            ]
          },
          "metadata": {},
          "execution_count": 20
        }
      ]
    },
    {
      "cell_type": "code",
      "source": [
        "data.info()"
      ],
      "metadata": {
        "colab": {
          "base_uri": "https://localhost:8080/"
        },
        "id": "JENbM9TXWCXz",
        "outputId": "f6530251-1199-482a-8e31-3a7b56fbb47c"
      },
      "id": "JENbM9TXWCXz",
      "execution_count": 21,
      "outputs": [
        {
          "output_type": "stream",
          "name": "stdout",
          "text": [
            "<class 'pandas.core.frame.DataFrame'>\n",
            "Int64Index: 4928 entries, 0 to 4982\n",
            "Data columns (total 11 columns):\n",
            " #   Column             Non-Null Count  Dtype  \n",
            "---  ------             --------------  -----  \n",
            " 0   gender             4928 non-null   object \n",
            " 1   age                4928 non-null   float64\n",
            " 2   hypertension       4928 non-null   object \n",
            " 3   heart_disease      4928 non-null   object \n",
            " 4   ever_married       4928 non-null   object \n",
            " 5   work_type          4928 non-null   object \n",
            " 6   Residence_type     4928 non-null   object \n",
            " 7   avg_glucose_level  4928 non-null   float64\n",
            " 8   bmi                4928 non-null   float64\n",
            " 9   smoking_status     4928 non-null   object \n",
            " 10  stroke             4928 non-null   object \n",
            "dtypes: float64(3), object(8)\n",
            "memory usage: 462.0+ KB\n"
          ]
        }
      ]
    },
    {
      "cell_type": "markdown",
      "source": [
        "**Co-relation between different columns in the dataset**"
      ],
      "metadata": {
        "id": "OLe-hap4TlCk"
      },
      "id": "OLe-hap4TlCk"
    },
    {
      "cell_type": "code",
      "source": [
        "sns.heatmap(data.corr(), annot=True)"
      ],
      "metadata": {
        "colab": {
          "base_uri": "https://localhost:8080/",
          "height": 290
        },
        "id": "gCB44CrvTsM3",
        "outputId": "dfc89846-d278-4330-a31e-b961431b8566"
      },
      "id": "gCB44CrvTsM3",
      "execution_count": 22,
      "outputs": [
        {
          "output_type": "execute_result",
          "data": {
            "text/plain": [
              "<matplotlib.axes._subplots.AxesSubplot at 0x7f2cd51fea60>"
            ]
          },
          "metadata": {},
          "execution_count": 22
        },
        {
          "output_type": "display_data",
          "data": {
            "text/plain": [
              "<Figure size 432x288 with 2 Axes>"
            ],
            "image/png": "[encoded data removed]"
          },
          "metadata": {}
        }
      ]
    },
    {
      "cell_type": "markdown",
      "source": [
        "From the correlation matrix the insights are:\n",
        "\n",
        "Age , Avg_glucose_level , and BMI are positively correlated.\n",
        "\n",
        "As the Age increases Avg_glucose_level and BMI of the person is increasing."
      ],
      "metadata": {
        "id": "NLER0NbWY7y8"
      },
      "id": "NLER0NbWY7y8"
    },
    {
      "cell_type": "markdown",
      "source": [
        "**Who have high chance of getting brain stroke?**"
      ],
      "metadata": {
        "id": "haFmPYlYaAjj"
      },
      "id": "haFmPYlYaAjj"
    },
    {
      "cell_type": "code",
      "source": [
        "sns.countplot(data=data, x=\"gender\", hue=\"stroke\")"
      ],
      "metadata": {
        "colab": {
          "base_uri": "https://localhost:8080/",
          "height": 302
        },
        "id": "lzZ4zE9obvNf",
        "outputId": "c2cb7fdc-52a6-47f7-f539-bb1b80b4ea8a"
      },
      "id": "lzZ4zE9obvNf",
      "execution_count": 23,
      "outputs": [
        {
          "output_type": "execute_result",
          "data": {
            "text/plain": [
              "<matplotlib.axes._subplots.AxesSubplot at 0x7f2cd520a640>"
            ]
          },
          "metadata": {},
          "execution_count": 23
        },
        {
          "output_type": "display_data",
          "data": {
            "text/plain": [
              "<Figure size 432x288 with 1 Axes>"
            ],
            "image/png": "[encoded data removed]"
          },
          "metadata": {}
        }
      ]
    },
    {
      "cell_type": "markdown",
      "source": [
        "**From the above chart it is evident that Females are having more chance of getting brain stroke**"
      ],
      "metadata": {
        "id": "SjuK4k4QjrLe"
      },
      "id": "SjuK4k4QjrLe"
    },
    {
      "cell_type": "code",
      "source": [
        "newdf = data[(data.stroke == \"Yes\")]\n",
        "newdf"
      ],
      "metadata": {
        "colab": {
          "base_uri": "https://localhost:8080/",
          "height": 424
        },
        "id": "WyLrCBQylqS1",
        "outputId": "fd5241ae-d236-41a2-ae03-0ad9321e8847"
      },
      "id": "WyLrCBQylqS1",
      "execution_count": 24,
      "outputs": [
        {
          "output_type": "execute_result",
          "data": {
            "text/plain": [
              "      gender   age hypertension heart_disease ever_married      work_type  \\\n",
              "0       Male  67.0           No           Yes          Yes        Private   \n",
              "1       Male  80.0           No           Yes          Yes        Private   \n",
              "2     Female  49.0           No            No          Yes        Private   \n",
              "5     Female  79.0          Yes            No          Yes  Self-employed   \n",
              "7       Male  74.0          Yes           Yes          Yes        Private   \n",
              "...      ...   ...          ...           ...          ...            ...   \n",
              "4817    Male  79.0           No            No          Yes        Private   \n",
              "4818    Male  74.0           No            No          Yes        Private   \n",
              "4819  Female  76.0          Yes           Yes          Yes  Self-employed   \n",
              "4820    Male  74.0           No            No          Yes  Self-employed   \n",
              "4821    Male  71.0          Yes            No          Yes  Self-employed   \n",
              "\n",
              "     Residence_type  avg_glucose_level   bmi   smoking_status stroke  \n",
              "0             Urban             228.69  36.6  formerly smoked    Yes  \n",
              "1             Rural             105.92  32.5     never smoked    Yes  \n",
              "2             Urban             171.23  34.4           smokes    Yes  \n",
              "5             Rural             174.12  24.0     never smoked    Yes  \n",
              "7             Rural              70.09  27.4     never smoked    Yes  \n",
              "...             ...                ...   ...              ...    ...  \n",
              "4817          Rural             114.77  27.2  formerly smoked    Yes  \n",
              "4818          Urban             167.13  28.7          Unknown    Yes  \n",
              "4819          Urban             199.86  31.7           smokes    Yes  \n",
              "4820          Rural              60.98  28.1     never smoked    Yes  \n",
              "4821          Rural              87.80  30.8          Unknown    Yes  \n",
              "\n",
              "[237 rows x 11 columns]"
            ],
            "text/html": [
              "\n",
              "  <div id=\"df-ff6ed482-e9f7-4710-b900-21fe60437c08\">\n",
              "    <div class=\"colab-df-container\">\n",
              "      <div>\n",
              "<style scoped>\n",
              "    .dataframe tbody tr th:only-of-type {\n",
              "        vertical-align: middle;\n",
              "    }\n",
              "\n",
              "    .dataframe tbody tr th {\n",
              "        vertical-align: top;\n",
              "    }\n",
              "\n",
              "    .dataframe thead th {\n",
              "        text-align: right;\n",
              "    }\n",
              "</style>\n",
              "<table border=\"1\" class=\"dataframe\">\n",
              "  <thead>\n",
              "    <tr style=\"text-align: right;\">\n",
              "      <th></th>\n",
              "      <th>gender</th>\n",
              "      <th>age</th>\n",
              "      <th>hypertension</th>\n",
              "      <th>heart_disease</th>\n",
              "      <th>ever_married</th>\n",
              "      <th>work_type</th>\n",
              "      <th>Residence_type</th>\n",
              "      <th>avg_glucose_level</th>\n",
              "      <th>bmi</th>\n",
              "      <th>smoking_status</th>\n",
              "      <th>stroke</th>\n",
              "    </tr>\n",
              "  </thead>\n",
              "  <tbody>\n",
              "    <tr>\n",
              "      <th>0</th>\n",
              "      <td>Male</td>\n",
              "      <td>67.0</td>\n",
              "      <td>No</td>\n",
              "      <td>Yes</td>\n",
              "      <td>Yes</td>\n",
              "      <td>Private</td>\n",
              "      <td>Urban</td>\n",
              "      <td>228.69</td>\n",
              "      <td>36.6</td>\n",
              "      <td>formerly smoked</td>\n",
              "      <td>Yes</td>\n",
              "    </tr>\n",
              "    <tr>\n",
              "      <th>1</th>\n",
              "      <td>Male</td>\n",
              "      <td>80.0</td>\n",
              "      <td>No</td>\n",
              "      <td>Yes</td>\n",
              "      <td>Yes</td>\n",
              "      <td>Private</td>\n",
              "      <td>Rural</td>\n",
              "      <td>105.92</td>\n",
              "      <td>32.5</td>\n",
              "      <td>never smoked</td>\n",
              "      <td>Yes</td>\n",
              "    </tr>\n",
              "    <tr>\n",
              "      <th>2</th>\n",
              "      <td>Female</td>\n",
              "      <td>49.0</td>\n",
              "      <td>No</td>\n",
              "      <td>No</td>\n",
              "      <td>Yes</td>\n",
              "      <td>Private</td>\n",
              "      <td>Urban</td>\n",
              "      <td>171.23</td>\n",
              "      <td>34.4</td>\n",
              "      <td>smokes</td>\n",
              "      <td>Yes</td>\n",
              "    </tr>\n",
              "    <tr>\n",
              "      <th>5</th>\n",
              "      <td>Female</td>\n",
              "      <td>79.0</td>\n",
              "      <td>Yes</td>\n",
              "      <td>No</td>\n",
              "      <td>Yes</td>\n",
              "      <td>Self-employed</td>\n",
              "      <td>Rural</td>\n",
              "      <td>174.12</td>\n",
              "      <td>24.0</td>\n",
              "      <td>never smoked</td>\n",
              "      <td>Yes</td>\n",
              "    </tr>\n",
              "    <tr>\n",
              "      <th>7</th>\n",
              "      <td>Male</td>\n",
              "      <td>74.0</td>\n",
              "      <td>Yes</td>\n",
              "      <td>Yes</td>\n",
              "      <td>Yes</td>\n",
              "      <td>Private</td>\n",
              "      <td>Rural</td>\n",
              "      <td>70.09</td>\n",
              "      <td>27.4</td>\n",
              "      <td>never smoked</td>\n",
              "      <td>Yes</td>\n",
              "    </tr>\n",
              "    <tr>\n",
              "      <th>...</th>\n",
              "      <td>...</td>\n",
              "      <td>...</td>\n",
              "      <td>...</td>\n",
              "      <td>...</td>\n",
              "      <td>...</td>\n",
              "      <td>...</td>\n",
              "      <td>...</td>\n",
              "      <td>...</td>\n",
              "      <td>...</td>\n",
              "      <td>...</td>\n",
              "      <td>...</td>\n",
              "    </tr>\n",
              "    <tr>\n",
              "      <th>4817</th>\n",
              "      <td>Male</td>\n",
              "      <td>79.0</td>\n",
              "      <td>No</td>\n",
              "      <td>No</td>\n",
              "      <td>Yes</td>\n",
              "      <td>Private</td>\n",
              "      <td>Rural</td>\n",
              "      <td>114.77</td>\n",
              "      <td>27.2</td>\n",
              "      <td>formerly smoked</td>\n",
              "      <td>Yes</td>\n",
              "    </tr>\n",
              "    <tr>\n",
              "      <th>4818</th>\n",
              "      <td>Male</td>\n",
              "      <td>74.0</td>\n",
              "      <td>No</td>\n",
              "      <td>No</td>\n",
              "      <td>Yes</td>\n",
              "      <td>Private</td>\n",
              "      <td>Urban</td>\n",
              "      <td>167.13</td>\n",
              "      <td>28.7</td>\n",
              "      <td>Unknown</td>\n",
              "      <td>Yes</td>\n",
              "    </tr>\n",
              "    <tr>\n",
              "      <th>4819</th>\n",
              "      <td>Female</td>\n",
              "      <td>76.0</td>\n",
              "      <td>Yes</td>\n",
              "      <td>Yes</td>\n",
              "      <td>Yes</td>\n",
              "      <td>Self-employed</td>\n",
              "      <td>Urban</td>\n",
              "      <td>199.86</td>\n",
              "      <td>31.7</td>\n",
              "      <td>smokes</td>\n",
              "      <td>Yes</td>\n",
              "    </tr>\n",
              "    <tr>\n",
              "      <th>4820</th>\n",
              "      <td>Male</td>\n",
              "      <td>74.0</td>\n",
              "      <td>No</td>\n",
              "      <td>No</td>\n",
              "      <td>Yes</td>\n",
              "      <td>Self-employed</td>\n",
              "      <td>Rural</td>\n",
              "      <td>60.98</td>\n",
              "      <td>28.1</td>\n",
              "      <td>never smoked</td>\n",
              "      <td>Yes</td>\n",
              "    </tr>\n",
              "    <tr>\n",
              "      <th>4821</th>\n",
              "      <td>Male</td>\n",
              "      <td>71.0</td>\n",
              "      <td>Yes</td>\n",
              "      <td>No</td>\n",
              "      <td>Yes</td>\n",
              "      <td>Self-employed</td>\n",
              "      <td>Rural</td>\n",
              "      <td>87.80</td>\n",
              "      <td>30.8</td>\n",
              "      <td>Unknown</td>\n",
              "      <td>Yes</td>\n",
              "    </tr>\n",
              "  </tbody>\n",
              "</table>\n",
              "<p>237 rows × 11 columns</p>\n",
              "</div>\n",
              "      <button class=\"colab-df-convert\" onclick=\"convertToInteractive('df-ff6ed482-e9f7-4710-b900-21fe60437c08')\"\n",
              "              title=\"Convert this dataframe to an interactive table.\"\n",
              "              style=\"display:none;\">\n",
              "        \n",
              "  <svg xmlns=\"http://www.w3.org/2000/svg\" height=\"24px\"viewBox=\"0 0 24 24\"\n",
              "       width=\"24px\">\n",
              "    <path d=\"M0 0h24v24H0V0z\" fill=\"none\"/>\n",
              "    <path d=\"M18.56 5.44l.94 2.06.94-2.06 2.06-.94-2.06-.94-.94-2.06-.94 2.06-2.06.94zm-11 1L8.5 8.5l.94-2.06 2.06-.94-2.06-.94L8.5 2.5l-.94 2.06-2.06.94zm10 10l.94 2.06.94-2.06 2.06-.94-2.06-.94-.94-2.06-.94 2.06-2.06.94z\"/><path d=\"M17.41 7.96l-1.37-1.37c-.4-.4-.92-.59-1.43-.59-.52 0-1.04.2-1.43.59L10.3 9.45l-7.72 7.72c-.78.78-.78 2.05 0 2.83L4 21.41c.39.39.9.59 1.41.59.51 0 1.02-.2 1.41-.59l7.78-7.78 2.81-2.81c.8-.78.8-2.07 0-2.86zM5.41 20L4 18.59l7.72-7.72 1.47 1.35L5.41 20z\"/>\n",
              "  </svg>\n",
              "      </button>\n",
              "      \n",
              "  <style>\n",
              "    .colab-df-container {\n",
              "      display:flex;\n",
              "      flex-wrap:wrap;\n",
              "      gap: 12px;\n",
              "    }\n",
              "\n",
              "    .colab-df-convert {\n",
              "      background-color: #E8F0FE;\n",
              "      border: none;\n",
              "      border-radius: 50%;\n",
              "      cursor: pointer;\n",
              "      display: none;\n",
              "      fill: #1967D2;\n",
              "      height: 32px;\n",
              "      padding: 0 0 0 0;\n",
              "      width: 32px;\n",
              "    }\n",
              "\n",
              "    .colab-df-convert:hover {\n",
              "      background-color: #E2EBFA;\n",
              "      box-shadow: 0px 1px 2px rgba(60, 64, 67, 0.3), 0px 1px 3px 1px rgba(60, 64, 67, 0.15);\n",
              "      fill: #174EA6;\n",
              "    }\n",
              "\n",
              "    [theme=dark] .colab-df-convert {\n",
              "      background-color: #3B4455;\n",
              "      fill: #D2E3FC;\n",
              "    }\n",
              "\n",
              "    [theme=dark] .colab-df-convert:hover {\n",
              "      background-color: #434B5C;\n",
              "      box-shadow: 0px 1px 3px 1px rgba(0, 0, 0, 0.15);\n",
              "      filter: drop-shadow(0px 1px 2px rgba(0, 0, 0, 0.3));\n",
              "      fill: #FFFFFF;\n",
              "    }\n",
              "  </style>\n",
              "\n",
              "      <script>\n",
              "        const buttonEl =\n",
              "          document.querySelector('#df-ff6ed482-e9f7-4710-b900-21fe60437c08 button.colab-df-convert');\n",
              "        buttonEl.style.display =\n",
              "          google.colab.kernel.accessAllowed ? 'block' : 'none';\n",
              "\n",
              "        async function convertToInteractive(key) {\n",
              "          const element = document.querySelector('#df-ff6ed482-e9f7-4710-b900-21fe60437c08');\n",
              "          const dataTable =\n",
              "            await google.colab.kernel.invokeFunction('convertToInteractive',\n",
              "                                                     [key], {});\n",
              "          if (!dataTable) return;\n",
              "\n",
              "          const docLinkHtml = 'Like what you see? Visit the ' +\n",
              "            '<a target=\"_blank\" href=https://colab.research.google.com/notebooks/data_table.ipynb>data table notebook</a>'\n",
              "            + ' to learn more about interactive tables.';\n",
              "          element.innerHTML = '';\n",
              "          dataTable['output_type'] = 'display_data';\n",
              "          await google.colab.output.renderOutput(dataTable, element);\n",
              "          const docLink = document.createElement('div');\n",
              "          docLink.innerHTML = docLinkHtml;\n",
              "          element.appendChild(docLink);\n",
              "        }\n",
              "      </script>\n",
              "    </div>\n",
              "  </div>\n",
              "  "
            ]
          },
          "metadata": {},
          "execution_count": 24
        }
      ]
    },
    {
      "cell_type": "code",
      "source": [
        "sns.countplot(x='Residence_type', data=newdf, hue='work_type')"
      ],
      "metadata": {
        "colab": {
          "base_uri": "https://localhost:8080/",
          "height": 302
        },
        "id": "-XtTUmAel9_p",
        "outputId": "0a2f21e1-ceae-4af8-dc03-e180e9bbe52b"
      },
      "id": "-XtTUmAel9_p",
      "execution_count": 25,
      "outputs": [
        {
          "output_type": "execute_result",
          "data": {
            "text/plain": [
              "<matplotlib.axes._subplots.AxesSubplot at 0x7f2cd28ba220>"
            ]
          },
          "metadata": {},
          "execution_count": 25
        },
        {
          "output_type": "display_data",
          "data": {
            "text/plain": [
              "<Figure size 432x288 with 1 Axes>"
            ],
            "image/png": "[encoded data removed]"
          },
          "metadata": {}
        }
      ]
    },
    {
      "cell_type": "markdown",
      "source": [
        "Stroke risk is higher for urban residents than rural residents and its on even higher for people who are doing Private jobs"
      ],
      "metadata": {
        "id": "-yLYz4KvnFcB"
      },
      "id": "-yLYz4KvnFcB"
    },
    {
      "cell_type": "code",
      "source": [
        "sns.countplot(x='ever_married', data=newdf, hue='smoking_status')"
      ],
      "metadata": {
        "colab": {
          "base_uri": "https://localhost:8080/",
          "height": 302
        },
        "id": "5QPWjgxAnLn9",
        "outputId": "376c7c88-1d4d-45d1-d909-e5e2c7903d31"
      },
      "id": "5QPWjgxAnLn9",
      "execution_count": 26,
      "outputs": [
        {
          "output_type": "execute_result",
          "data": {
            "text/plain": [
              "<matplotlib.axes._subplots.AxesSubplot at 0x7f2cd2823ac0>"
            ]
          },
          "metadata": {},
          "execution_count": 26
        },
        {
          "output_type": "display_data",
          "data": {
            "text/plain": [
              "<Figure size 432x288 with 1 Axes>"
            ],
            "image/png": "[encoded data removed]"
          },
          "metadata": {}
        }
      ]
    },
    {
      "cell_type": "markdown",
      "source": [
        "According to the findings, persons who are married and have never smoked or have quit smoking have a higher risk of developing a stroke. But those who never smoke and are single are also at risk for brain attacks."
      ],
      "metadata": {
        "id": "F59Tp9_4n-dW"
      },
      "id": "F59Tp9_4n-dW"
    },
    {
      "cell_type": "code",
      "source": [
        "sns.catplot(data=newdf, x=\"gender\", y=\"bmi\", hue=\"stroke\", kind=\"swarm\")"
      ],
      "metadata": {
        "colab": {
          "base_uri": "https://localhost:8080/",
          "height": 382
        },
        "id": "bQFXPdts6XTr",
        "outputId": "29029c86-f970-4998-b4f8-f4c9ac1a062a"
      },
      "id": "bQFXPdts6XTr",
      "execution_count": 27,
      "outputs": [
        {
          "output_type": "execute_result",
          "data": {
            "text/plain": [
              "<seaborn.axisgrid.FacetGrid at 0x7f2cd28143d0>"
            ]
          },
          "metadata": {},
          "execution_count": 27
        },
        {
          "output_type": "display_data",
          "data": {
            "text/plain": [
              "<Figure size 417.475x360 with 1 Axes>"
            ],
            "image/png": "[encoded data removed]"
          },
          "metadata": {}
        }
      ]
    },
    {
      "cell_type": "markdown",
      "source": [
        "**People those who are having BMI index 22-38 are having higher chances of brain stroke.**"
      ],
      "metadata": {
        "id": "WyiVIVfg9O3X"
      },
      "id": "WyiVIVfg9O3X"
    },
    {
      "cell_type": "code",
      "source": [
        "sns.countplot(x='hypertension', data=newdf, hue= 'heart_disease')"
      ],
      "metadata": {
        "colab": {
          "base_uri": "https://localhost:8080/",
          "height": 302
        },
        "id": "HVeWPSkp-Jjz",
        "outputId": "0658610c-dc26-4cea-9c9b-2dea0d474028"
      },
      "id": "HVeWPSkp-Jjz",
      "execution_count": 28,
      "outputs": [
        {
          "output_type": "execute_result",
          "data": {
            "text/plain": [
              "<matplotlib.axes._subplots.AxesSubplot at 0x7f2cd276f040>"
            ]
          },
          "metadata": {},
          "execution_count": 28
        },
        {
          "output_type": "display_data",
          "data": {
            "text/plain": [
              "<Figure size 432x288 with 1 Axes>"
            ],
            "image/png": "[encoded data removed]"
          },
          "metadata": {}
        }
      ]
    },
    {
      "cell_type": "markdown",
      "source": [
        "**Above chart depicts that heart disease and hypertension are not factors in stroke. Because persons without heart disease or high blood pressure often suffer from strokes.**"
      ],
      "metadata": {
        "id": "DP55lmq--hqU"
      },
      "id": "DP55lmq--hqU"
    },
    {
      "cell_type": "markdown",
      "source": [
        "## Encoding the data"
      ],
      "metadata": {
        "id": "VWPxXjv8-8MA"
      },
      "id": "VWPxXjv8-8MA"
    },
    {
      "cell_type": "code",
      "source": [
        "categorical_cols = [col for col in data.columns if data[col].dtype == \"object\"]\n",
        "categorical_nunique = list(map(lambda col: data[col].nunique(), categorical_cols))\n",
        "d = dict(zip(categorical_cols, categorical_nunique))\n",
        "sorted(d.items(), key=lambda x: x[1])"
      ],
      "metadata": {
        "colab": {
          "base_uri": "https://localhost:8080/"
        },
        "id": "U-hgqntX_EYu",
        "outputId": "35765352-a35f-4b0b-96a6-c481c8aacf56"
      },
      "id": "U-hgqntX_EYu",
      "execution_count": 29,
      "outputs": [
        {
          "output_type": "execute_result",
          "data": {
            "text/plain": [
              "[('gender', 2),\n",
              " ('hypertension', 2),\n",
              " ('heart_disease', 2),\n",
              " ('ever_married', 2),\n",
              " ('Residence_type', 2),\n",
              " ('stroke', 2),\n",
              " ('work_type', 4),\n",
              " ('smoking_status', 4)]"
            ]
          },
          "metadata": {},
          "execution_count": 29
        }
      ]
    },
    {
      "cell_type": "code",
      "source": [
        "Encoder_one = OrdinalEncoder()\n",
        "data[categorical_cols] =Encoder_one.fit_transform(data[categorical_cols])\n",
        "abs(data.corr()['stroke']).sort_values(ascending=False)"
      ],
      "metadata": {
        "colab": {
          "base_uri": "https://localhost:8080/"
        },
        "id": "Z0dTUlY6_MDE",
        "outputId": "65c4018c-ad16-413b-a80e-edd3672f3a87"
      },
      "id": "Z0dTUlY6_MDE",
      "execution_count": 30,
      "outputs": [
        {
          "output_type": "execute_result",
          "data": {
            "text/plain": [
              "stroke               1.000000\n",
              "age                  0.242308\n",
              "heart_disease        0.137153\n",
              "avg_glucose_level    0.127768\n",
              "hypertension         0.126653\n",
              "ever_married         0.105957\n",
              "bmi                  0.056004\n",
              "work_type            0.040406\n",
              "smoking_status       0.023227\n",
              "Residence_type       0.012384\n",
              "gender               0.004731\n",
              "Name: stroke, dtype: float64"
            ]
          },
          "metadata": {},
          "execution_count": 30
        }
      ]
    },
    {
      "cell_type": "markdown",
      "source": [
        "**Splitting the training and testing data**"
      ],
      "metadata": {
        "id": "BjLet34P_TCt"
      },
      "id": "BjLet34P_TCt"
    },
    {
      "cell_type": "code",
      "source": [
        "X= data\n",
        "y = data.stroke\n",
        "X_train, X_test, y_train, y_test = train_test_split(X, y, test_size=0.3, random_state = 1)"
      ],
      "metadata": {
        "id": "zjzJi66L_WWg"
      },
      "id": "zjzJi66L_WWg",
      "execution_count": 31,
      "outputs": []
    },
    {
      "cell_type": "markdown",
      "source": [
        "**Balancing the Dataset**"
      ],
      "metadata": {
        "id": "DMiEVbrN_kkf"
      },
      "id": "DMiEVbrN_kkf"
    },
    {
      "cell_type": "code",
      "source": [
        "sm = SMOTE(sampling_strategy='minority')\n",
        "X, y = sm.fit_resample(X, y)\n",
        "y.value_counts()"
      ],
      "metadata": {
        "colab": {
          "base_uri": "https://localhost:8080/"
        },
        "id": "p2ussc-n_eP6",
        "outputId": "3c1498b3-56c7-46bc-8b35-9ae5e93476b6"
      },
      "id": "p2ussc-n_eP6",
      "execution_count": 32,
      "outputs": [
        {
          "output_type": "execute_result",
          "data": {
            "text/plain": [
              "1.0    4691\n",
              "0.0    4691\n",
              "Name: stroke, dtype: int64"
            ]
          },
          "metadata": {},
          "execution_count": 32
        }
      ]
    },
    {
      "cell_type": "code",
      "source": [
        "X.info()"
      ],
      "metadata": {
        "colab": {
          "base_uri": "https://localhost:8080/"
        },
        "id": "rneLHJC-_p6H",
        "outputId": "6150e83c-c5f3-40d9-a084-3b2a2849a857"
      },
      "id": "rneLHJC-_p6H",
      "execution_count": 33,
      "outputs": [
        {
          "output_type": "stream",
          "name": "stdout",
          "text": [
            "<class 'pandas.core.frame.DataFrame'>\n",
            "RangeIndex: 9382 entries, 0 to 9381\n",
            "Data columns (total 11 columns):\n",
            " #   Column             Non-Null Count  Dtype  \n",
            "---  ------             --------------  -----  \n",
            " 0   gender             9382 non-null   float64\n",
            " 1   age                9382 non-null   float64\n",
            " 2   hypertension       9382 non-null   float64\n",
            " 3   heart_disease      9382 non-null   float64\n",
            " 4   ever_married       9382 non-null   float64\n",
            " 5   work_type          9382 non-null   float64\n",
            " 6   Residence_type     9382 non-null   float64\n",
            " 7   avg_glucose_level  9382 non-null   float64\n",
            " 8   bmi                9382 non-null   float64\n",
            " 9   smoking_status     9382 non-null   float64\n",
            " 10  stroke             9382 non-null   float64\n",
            "dtypes: float64(11)\n",
            "memory usage: 806.4 KB\n"
          ]
        }
      ]
    },
    {
      "cell_type": "code",
      "source": [
        "X = data.drop('stroke',axis = 1 )\n",
        "y=data.stroke\n",
        "sm = SMOTE(sampling_strategy='minority')\n",
        "X, y = sm.fit_resample(X, y)\n",
        "y.value_counts()"
      ],
      "metadata": {
        "colab": {
          "base_uri": "https://localhost:8080/"
        },
        "id": "t2aIGFki_vvs",
        "outputId": "dcc67ef7-2cad-47f7-d522-8f0bf0c30408"
      },
      "id": "t2aIGFki_vvs",
      "execution_count": 34,
      "outputs": [
        {
          "output_type": "execute_result",
          "data": {
            "text/plain": [
              "1.0    4691\n",
              "0.0    4691\n",
              "Name: stroke, dtype: int64"
            ]
          },
          "metadata": {},
          "execution_count": 34
        }
      ]
    },
    {
      "cell_type": "code",
      "source": [
        "ac_v = []\n",
        "f_v = []"
      ],
      "metadata": {
        "id": "lpzkgSw6_0Nj"
      },
      "id": "lpzkgSw6_0Nj",
      "execution_count": 35,
      "outputs": []
    },
    {
      "cell_type": "markdown",
      "source": [
        "## Decision Tree"
      ],
      "metadata": {
        "id": "3WMwaNewAApX"
      },
      "id": "3WMwaNewAApX"
    },
    {
      "cell_type": "code",
      "source": [
        "from sklearn.model_selection import train_test_split\n",
        "X_train, X_valid, y_train, y_valid = train_test_split(X, y, test_size=0.2,random_state=1,stratify=y)\n",
        "\n",
        "decision_tree = DecisionTreeClassifier(criterion='entropy')\n",
        "decision_tree.fit(X_train, y_train)\n",
        "ypred_tree = decision_tree.predict(X_valid)\n",
        "decision_acc =  metrics.accuracy_score(y_valid, ypred_tree)\n",
        "ac_v.append(decision_acc)\n",
        "print('F1-score: %.3f'%f1_score(y_valid, ypred_tree))\n",
        "print('Decision tree accuracy : %.3f'%decision_acc)"
      ],
      "metadata": {
        "colab": {
          "base_uri": "https://localhost:8080/"
        },
        "id": "Q6BkQUHi_2xk",
        "outputId": "1361ae12-5863-4414-c248-258b68729c04"
      },
      "id": "Q6BkQUHi_2xk",
      "execution_count": 36,
      "outputs": [
        {
          "output_type": "stream",
          "name": "stdout",
          "text": [
            "F1-score: 0.947\n",
            "Decision tree accuracy : 0.947\n"
          ]
        }
      ]
    },
    {
      "cell_type": "code",
      "source": [
        "confusion = confusion_matrix(y_valid, ypred_tree)\n",
        "plt.title('Decision Tree Confusion Metrix')\n",
        "sns.heatmap(confusion, annot = True)"
      ],
      "metadata": {
        "colab": {
          "base_uri": "https://localhost:8080/",
          "height": 301
        },
        "id": "ADYhjejNCCYh",
        "outputId": "243d780f-83a3-473d-8883-b6947494c6d6"
      },
      "id": "ADYhjejNCCYh",
      "execution_count": 38,
      "outputs": [
        {
          "output_type": "execute_result",
          "data": {
            "text/plain": [
              "<matplotlib.axes._subplots.AxesSubplot at 0x7f2cd27dfa90>"
            ]
          },
          "metadata": {},
          "execution_count": 38
        },
        {
          "output_type": "display_data",
          "data": {
            "text/plain": [
              "<Figure size 432x288 with 2 Axes>"
            ],
            "image/png": "[encoded data removed]"
          },
          "metadata": {}
        }
      ]
    },
    {
      "cell_type": "code",
      "source": [
        "f_v.append(f1_score(y_valid, ypred_tree))\n",
        "t_n = ['Stroke = 0', 'Stroke = 1']\n",
        "print(classification_report(y_valid, ypred_tree, labels=[0,1], target_names=t_n))"
      ],
      "metadata": {
        "colab": {
          "base_uri": "https://localhost:8080/"
        },
        "id": "XBBnaReF_-LO",
        "outputId": "5793d61f-f961-45da-a77f-e29632b00685"
      },
      "id": "XBBnaReF_-LO",
      "execution_count": 39,
      "outputs": [
        {
          "output_type": "stream",
          "name": "stdout",
          "text": [
            "              precision    recall  f1-score   support\n",
            "\n",
            "  Stroke = 0       0.95      0.94      0.95       938\n",
            "  Stroke = 1       0.94      0.95      0.95       939\n",
            "\n",
            "    accuracy                           0.95      1877\n",
            "   macro avg       0.95      0.95      0.95      1877\n",
            "weighted avg       0.95      0.95      0.95      1877\n",
            "\n"
          ]
        }
      ]
    },
    {
      "cell_type": "markdown",
      "source": [
        "## SUPPORT VECTOR MACHINE"
      ],
      "metadata": {
        "id": "-m2KDBYnAFqm"
      },
      "id": "-m2KDBYnAFqm"
    },
    {
      "cell_type": "code",
      "source": [
        "c_svm = svm.SVC(kernel='rbf')\n",
        "sv = c_svm.fit(X_train, y_train)\n",
        "ypred_svm = c_svm.predict(X_valid)\n",
        "s_acc = accuracy_score(y_valid, ypred_svm)\n",
        "ac_v.append(s_acc)"
      ],
      "metadata": {
        "id": "52Z5SpyVAEms"
      },
      "id": "52Z5SpyVAEms",
      "execution_count": 40,
      "outputs": []
    },
    {
      "cell_type": "code",
      "source": [
        "print('F1-score: %.3f' %f1_score(y_valid,ypred_svm))\n",
        "print('SUPPORT VECTOR MACHINE ACCURACY : %.3f' %s_acc)"
      ],
      "metadata": {
        "colab": {
          "base_uri": "https://localhost:8080/"
        },
        "id": "Ixr4GlddAPJV",
        "outputId": "961f165f-ae40-406b-b23c-d26ddca609f7"
      },
      "id": "Ixr4GlddAPJV",
      "execution_count": 41,
      "outputs": [
        {
          "output_type": "stream",
          "name": "stdout",
          "text": [
            "F1-score: 0.795\n",
            "SUPPORT VECTOR MACHINE ACCURACY : 0.781\n"
          ]
        }
      ]
    },
    {
      "cell_type": "code",
      "source": [
        "f_v.append(f1_score(y_valid,ypred_svm))\n",
        "t_n = ['Stroke = 0', 'Stroke = 1']"
      ],
      "metadata": {
        "id": "czt3stdpASZs"
      },
      "id": "czt3stdpASZs",
      "execution_count": 42,
      "outputs": []
    },
    {
      "cell_type": "code",
      "source": [
        "confusion = confusion_matrix(y_valid, ypred_svm)\n",
        "plt.title('SVM Confusion Metrix')\n",
        "sns.heatmap(confusion, annot = True)"
      ],
      "metadata": {
        "colab": {
          "base_uri": "https://localhost:8080/",
          "height": 301
        },
        "id": "LN_ifl0HEU8U",
        "outputId": "2863d1df-65ca-43d8-a0e8-fad7906d3f9d"
      },
      "id": "LN_ifl0HEU8U",
      "execution_count": 48,
      "outputs": [
        {
          "output_type": "execute_result",
          "data": {
            "text/plain": [
              "<matplotlib.axes._subplots.AxesSubplot at 0x7f2cd18dd0d0>"
            ]
          },
          "metadata": {},
          "execution_count": 48
        },
        {
          "output_type": "display_data",
          "data": {
            "text/plain": [
              "<Figure size 432x288 with 2 Axes>"
            ],
            "image/png": "[encoded data removed]"
          },
          "metadata": {}
        }
      ]
    },
    {
      "cell_type": "code",
      "source": [
        "print(classification_report(y_valid, ypred_svm, labels=[0,1],target_names=t_n))"
      ],
      "metadata": {
        "colab": {
          "base_uri": "https://localhost:8080/"
        },
        "id": "LnxhM8vxAa7p",
        "outputId": "7b75472f-f03e-4b04-f02f-e4f26555073c"
      },
      "id": "LnxhM8vxAa7p",
      "execution_count": 46,
      "outputs": [
        {
          "output_type": "stream",
          "name": "stdout",
          "text": [
            "              precision    recall  f1-score   support\n",
            "\n",
            "  Stroke = 0       0.83      0.71      0.76       938\n",
            "  Stroke = 1       0.75      0.85      0.80       939\n",
            "\n",
            "    accuracy                           0.78      1877\n",
            "   macro avg       0.79      0.78      0.78      1877\n",
            "weighted avg       0.79      0.78      0.78      1877\n",
            "\n"
          ]
        }
      ]
    },
    {
      "cell_type": "markdown",
      "source": [
        "## LOGISTIC REGRESSION"
      ],
      "metadata": {
        "id": "yf-qoqVlAegl"
      },
      "id": "yf-qoqVlAegl"
    },
    {
      "cell_type": "code",
      "source": [
        "lr = LogisticRegression()\n",
        "lr.fit(X_train,y_train)\n",
        "predictions = lr.predict(X_valid) \n",
        "yf = f1_score(y_valid,predictions)\n",
        "ya = metrics.accuracy_score(y_valid,predictions)"
      ],
      "metadata": {
        "id": "m0e5lmc5Agrx"
      },
      "id": "m0e5lmc5Agrx",
      "execution_count": 47,
      "outputs": []
    },
    {
      "cell_type": "code",
      "source": [
        "confusion = confusion_matrix(y_valid, predictions)\n",
        "plt.title('Logistic Regression Confusion Metrix')\n",
        "sns.heatmap(confusion, annot = True)"
      ],
      "metadata": {
        "colab": {
          "base_uri": "https://localhost:8080/",
          "height": 301
        },
        "id": "eNwM8iQgEtd7",
        "outputId": "1315edb7-b9e4-42df-ea34-41cf4b70f30d"
      },
      "id": "eNwM8iQgEtd7",
      "execution_count": 49,
      "outputs": [
        {
          "output_type": "execute_result",
          "data": {
            "text/plain": [
              "<matplotlib.axes._subplots.AxesSubplot at 0x7f2cd185e580>"
            ]
          },
          "metadata": {},
          "execution_count": 49
        },
        {
          "output_type": "display_data",
          "data": {
            "text/plain": [
              "<Figure size 432x288 with 2 Axes>"
            ],
            "image/png": "[encoded data removed]"
          },
          "metadata": {}
        }
      ]
    },
    {
      "cell_type": "code",
      "source": [
        "print('F1 Score for Logistic regression model : %.3f'%yf)\n",
        "print('Accuracy : %.3f'%ya)\n",
        "print(\"Classification Report : \\n\\n\" , classification_report(predictions,y_valid),\"\\n\")"
      ],
      "metadata": {
        "colab": {
          "base_uri": "https://localhost:8080/"
        },
        "id": "QgA9LSVHAkCn",
        "outputId": "c7d50503-88dc-4dab-b4f3-5c1423ef8a8e"
      },
      "id": "QgA9LSVHAkCn",
      "execution_count": 50,
      "outputs": [
        {
          "output_type": "stream",
          "name": "stdout",
          "text": [
            "F1 Score for Logistic regression model : 0.802\n",
            "Accuracy : 0.792\n",
            "Classification Report : \n",
            "\n",
            "               precision    recall  f1-score   support\n",
            "\n",
            "         0.0       0.74      0.82      0.78       843\n",
            "         1.0       0.84      0.76      0.80      1034\n",
            "\n",
            "    accuracy                           0.79      1877\n",
            "   macro avg       0.79      0.79      0.79      1877\n",
            "weighted avg       0.80      0.79      0.79      1877\n",
            " \n",
            "\n"
          ]
        }
      ]
    },
    {
      "cell_type": "markdown",
      "source": [
        "**CONCLUSION**\n",
        "\n",
        "After comparing and executing the best models for classification we got accuracies as follows:\n",
        "\n",
        "DECISION TREE - 94%\n",
        "\n",
        "SUPPORT VECTOR MACHINE - 78%\n",
        "\n",
        "LOGISTIC REGRESSION - 79%\n",
        "\n",
        "So, the best model to predict the brain stroke is Decision Tree"
      ],
      "metadata": {
        "id": "MRjHW8S0Avu-"
      },
      "id": "MRjHW8S0Avu-"
    }
  ],
  "metadata": {
    "kernelspec": {
      "display_name": "Python 3 (ipykernel)",
      "language": "python",
      "name": "python3"
    },
    "language_info": {
      "codemirror_mode": {
        "name": "ipython",
        "version": 3
      },
      "file_extension": ".py",
      "mimetype": "text/x-python",
      "name": "python",
      "nbconvert_exporter": "python",
      "pygments_lexer": "ipython3",
      "version": "3.7.13"
    },
    "colab": {
      "provenance": []
    }
  },
  "nbformat": 4,
  "nbformat_minor": 5
}